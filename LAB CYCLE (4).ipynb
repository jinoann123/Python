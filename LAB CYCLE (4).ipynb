{
 "cells": [
  {
   "cell_type": "markdown",
   "id": "7b8e7c7d",
   "metadata": {},
   "source": [
    "#  LAB CYCLE\n",
    "#### 1)CALCULATOR"
   ]
  },
  {
   "cell_type": "code",
   "execution_count": null,
   "id": "39dec356",
   "metadata": {},
   "outputs": [],
   "source": [
    "a=int(input(\"Enter a number\"))\n",
    "b=int(input(\"Enter a number\"))\n",
    "ch=int(input(\"Enter your choice: \"))\n",
    "print(\"1:ADDITION\")\n",
    "print(\"2:SUBTRACTION\")\n",
    "print(\"3:MULTIPLICATION\")\n",
    "print(\"4:DIVISION\")\n",
    "if(ch==1):\n",
    "    print(\"Sum of two numbers\",a+b)\n",
    "elif(ch==2):\n",
    "    print(\"Diffrence of two numbers\",a-b)\n",
    "elif(ch==3):\n",
    "    print(\"Product of two numbers\",a*b)\n",
    "elif(ch==4):\n",
    "    print(\"Quotient\",a/b)\n",
    "else:\n",
    "    print(\"WRONG CHOICE\")\n"
   ]
  },
  {
   "cell_type": "markdown",
   "id": "a60203b7",
   "metadata": {},
   "source": [
    "##### 2)CREATE,RANGE,SLICE,MEMBERSHIP,SUBSTRING"
   ]
  },
  {
   "cell_type": "code",
   "execution_count": null,
   "id": "79b2cd4a",
   "metadata": {},
   "outputs": [],
   "source": [
    "a=\"RAJAGIRI\"\n",
    "b=\"COLLEGE\"\n",
    "print(\"CONCATENATE-\",a+b)\n",
    "print(\"LENGTH OF FIRST STRING:\",len(a))\n",
    "print(\"LENGTH OF SECOND STRING:\",len(b))\n",
    "print(\"SLICE FROM POSTION 0-4 OF FIRST STRING:\",a[0:5])\n",
    "print(\"SLICE FROM POSTION 1-4 OF SECOND STRING:\",b[1:5])\n",
    "print(\"A\" in a)\n",
    "print(\"R\" in b)\n",
    "print(\"SUBSTRING FROM POSITION 0-4 OF FIRST STRING:\",a[:5])\n",
    "print(\"SUBSTRING FROM POSITION 1-4 OF FIRST STRING:\",b[1:])\n"
   ]
  },
  {
   "cell_type": "markdown",
   "id": "a8c6b6a3",
   "metadata": {},
   "source": [
    "####  3)LIST"
   ]
  },
  {
   "cell_type": "code",
   "execution_count": null,
   "id": "98f26cfd",
   "metadata": {},
   "outputs": [],
   "source": [
    "list=[\"Rajagiri\",\"S.H\",\"RBS\"]\n",
    "print(\"ORIGINAL LIST:\",list)\n",
    "list.append(\"Mar Ivanios\")\n",
    "print(\"APPENDED LIST:\",list)\n",
    "list.insert(0,\"Fathima Matha\")\n",
    "print(\"INSERTED:\",list)\n",
    "del(list[1])\n",
    "print(\"DELETED:\",list)\n"
   ]
  },
  {
   "cell_type": "markdown",
   "id": "bd39dda6",
   "metadata": {},
   "source": [
    "###### 4)TUPLES"
   ]
  },
  {
   "cell_type": "code",
   "execution_count": null,
   "id": "3284703c",
   "metadata": {},
   "outputs": [],
   "source": [
    "Hardware=[\"Monitor\",\"RAM\",\"Expansion cards\",\"HDD\"]\n",
    "print(Hardware)\n",
    "print(\"HDD\" in Hardware)"
   ]
  },
  {
   "cell_type": "markdown",
   "id": "2986cd58",
   "metadata": {},
   "source": [
    "##### 5)DICTIONARY"
   ]
  },
  {
   "cell_type": "code",
   "execution_count": null,
   "id": "8a34e66f",
   "metadata": {},
   "outputs": [],
   "source": [
    "thisdict={\"The Christmas Pig\":\"JK Rowling\",\n",
    "         \"Wings of Fire\":\"Dr A.P.J Abdul Kalam\",\n",
    "         \"Gitanjali\":\"Rabindranath Tagore\",\n",
    "         \"Origin of Species\":\"Charles Darwin\"}\n",
    "print(thisdict)\n",
    "thisdict[\"Gullivers Travel\"]=\"Jonathan Swift\"\n",
    "print(\"ADDING BOOKS:\",thisdict)\n",
    "print(\"LENGTH OF THE DICTIONARY:\",len(thisdict))"
   ]
  },
  {
   "cell_type": "markdown",
   "id": "ea43d850",
   "metadata": {},
   "source": [
    "#####  6)PATTERN"
   ]
  },
  {
   "cell_type": "code",
   "execution_count": null,
   "id": "f557d08f",
   "metadata": {},
   "outputs": [],
   "source": [
    "n=int(input(\"Enter number of rows\"))\n",
    "for i in range(0,n):\n",
    "    for j in range(0,i+1):\n",
    "        print(\"*\",end=\"\")\n",
    "    print()"
   ]
  },
  {
   "cell_type": "markdown",
   "id": "2273327f",
   "metadata": {},
   "source": [
    "#### 7)Celsius to Farenheit"
   ]
  },
  {
   "cell_type": "code",
   "execution_count": null,
   "id": "f56bca52",
   "metadata": {},
   "outputs": [],
   "source": [
    "celsius=int(input(\"Enter the temperature in celsius: \"))\n",
    "far=celsius*(9/5)+32\n",
    "print(\"Celsius to Farenheit: \",far)\n",
    "farenheit=int(input(\"Enter the temperature in farenheit:\"))\n",
    "cel=farenheit-32*(5/9)\n",
    "print(\"Farenheit to Celsius: \",cel)"
   ]
  },
  {
   "cell_type": "markdown",
   "id": "dc3c8873",
   "metadata": {},
   "source": [
    "#### 8)Nested for loop"
   ]
  },
  {
   "cell_type": "code",
   "execution_count": null,
   "id": "4efb3d7a",
   "metadata": {},
   "outputs": [],
   "source": [
    "rows = 5\n",
    "for i in range(0, rows):\n",
    "    for j in range(0, i + 1):\n",
    "        print(\"*\", end=' ')\n",
    "    print(\" \")\n",
    "\n",
    "for i in range(rows + 1, 0, -1):\n",
    "    for j in range(0, i - 1):\n",
    "        print(\"*\", end=' ')\n",
    "    print(\" \")"
   ]
  },
  {
   "cell_type": "markdown",
   "id": "cafe7966",
   "metadata": {},
   "source": [
    "### 9)\n"
   ]
  },
  {
   "cell_type": "code",
   "execution_count": null,
   "id": "67c132aa",
   "metadata": {},
   "outputs": [],
   "source": [
    "b=int(input(\"Enter the base: \"))\n",
    "h=int(input(\"Enter the hypotenuse: \"))\n",
    "a=int(input(\"Enter the altitude\"))\n",
    "if h**2==((b**2)+(a**2)):\n",
    "    print(\"The triangle is right angled\")\n",
    "else:\n",
    "        print(\"Not a right angle\")\n",
    "        "
   ]
  },
  {
   "cell_type": "markdown",
   "id": "2bd413e1",
   "metadata": {},
   "source": [
    "### 10)"
   ]
  },
  {
   "cell_type": "code",
   "execution_count": null,
   "id": "9b0da510",
   "metadata": {},
   "outputs": [],
   "source": [
    "a=int(input(\"Enter the number\"))\n",
    "if a%5==0 and a%7==0:\n",
    "    print(\"The number is divisible\")\n",
    "else:\n",
    "    print(\"Not divisible\")\n",
    " "
   ]
  },
  {
   "cell_type": "markdown",
   "id": "ad9b5f6e",
   "metadata": {},
   "source": [
    "### 11) "
   ]
  },
  {
   "cell_type": "code",
   "execution_count": 2,
   "id": "beeebfdf",
   "metadata": {},
   "outputs": [
    {
     "name": "stdout",
     "output_type": "stream",
     "text": [
      "101\n",
      "103\n",
      "105\n",
      "107\n",
      "109\n",
      "110\n",
      "112\n",
      "114\n",
      "116\n",
      "118\n",
      "121\n",
      "123\n",
      "125\n",
      "127\n",
      "129\n",
      "130\n",
      "132\n",
      "134\n",
      "136\n",
      "138\n",
      "141\n",
      "143\n",
      "145\n",
      "147\n",
      "149\n",
      "150\n",
      "152\n",
      "154\n",
      "156\n",
      "158\n",
      "161\n",
      "163\n",
      "165\n",
      "167\n",
      "169\n",
      "170\n",
      "172\n",
      "174\n",
      "176\n",
      "178\n",
      "181\n",
      "183\n",
      "185\n",
      "187\n",
      "189\n",
      "190\n",
      "192\n",
      "194\n",
      "196\n",
      "198\n"
     ]
    }
   ],
   "source": [
    "for i in range(100,200):\n",
    "    sum=0\n",
    "    num=i\n",
    "    while(num!=0):\n",
    "        digit=num%10\n",
    "        sum=sum+digit\n",
    "        num=num//10\n",
    "    if(sum%2==0):\n",
    "        print(i)\n",
    "        "
   ]
  },
  {
   "cell_type": "code",
   "execution_count": null,
   "id": "7937ce56",
   "metadata": {},
   "outputs": [],
   "source": [
    "\n",
    "for i in range(1, 6):\n",
    "    for j in range(1,6):\n",
    "        print(\"*\", end=' ')\n",
    "    print(\" \")\n"
   ]
  },
  {
   "cell_type": "markdown",
   "id": "80dfa80a",
   "metadata": {},
   "source": [
    "### 12)"
   ]
  },
  {
   "cell_type": "code",
   "execution_count": null,
   "id": "7bd1c938",
   "metadata": {},
   "outputs": [],
   "source": [
    "a=int(input(\"Enter a 1st number\"))\n",
    "b=int(input(\"Enter a 2nd number\"))\n",
    "ch=int(input(\"Enter your choice: \"))\n",
    "print(\"1:ADDITION\")\n",
    "print(\"2:SUBTRACTION\")\n",
    "print(\"3:MULTIPLICATION\")\n",
    "print(\"4:DIVISION\")\n",
    "if(ch==1):\n",
    "    print(\"Sum of two numbers\",a+b)\n",
    "elif(ch==2):\n",
    "    print(\"Diffrence of two numbers\",a-b)\n",
    "elif(ch==3):\n",
    "    print(\"Product of two numbers\",a*b)\n",
    "elif(ch==4):\n",
    "    print(\"Quotient\",a/b)\n",
    "else:\n",
    "    print(\"WRONG CHOICE\")"
   ]
  },
  {
   "cell_type": "code",
   "execution_count": null,
   "id": "cb8b4c15",
   "metadata": {},
   "outputs": [],
   "source": [
    "def fibonacci(n):\n",
    "  if n == 0:\n",
    "    return 0\n",
    "  elif n == 1:\n",
    "    return 1\n",
    "  else:\n",
    "    return fibonacci(n-1) + fibonacci(n-2)\n",
    "for i in range(10):\n",
    "  print(fibonacci(i))"
   ]
  },
  {
   "cell_type": "code",
   "execution_count": null,
   "id": "37b9e538",
   "metadata": {},
   "outputs": [],
   "source": [
    "import numpy as np\n",
    "a=[[12,2,3],[1,2,3],[2,2,5]]\n",
    "b=[[5,8,2,1],[6,1,3,2],[1,2,3,4]]\n",
    "result=[[0,0,0,0],[0,0,0,0],[0,0,0,0]]\n",
    "result=np.dot(a,b)\n",
    "for r in result:\n",
    "    print(r)"
   ]
  },
  {
   "cell_type": "code",
   "execution_count": null,
   "id": "f235cc30",
   "metadata": {},
   "outputs": [],
   "source": [
    "x=int(input(\"ENTER A NUMBER:\"))\n",
    "y=int(input(\"ENTER A NUMBER:\"))\n",
    "s= (x + y) * (x + y)\n",
    "print(\"SUM =\",s)"
   ]
  },
  {
   "cell_type": "code",
   "execution_count": null,
   "id": "a8e4367a",
   "metadata": {},
   "outputs": [],
   "source": [
    "#FIBONACCI SERIES\n",
    "n=int(input(\"Enter the limit: \"))\n",
    "a=0\n",
    "b=1\n",
    "print(a)\n",
    "print(b)\n",
    "for  i in range(2,n):\n",
    "    c=a+b\n",
    "    a=b\n",
    "    b=c\n",
    "    print(c)\n"
   ]
  },
  {
   "cell_type": "code",
   "execution_count": null,
   "id": "3a2c3d1e",
   "metadata": {},
   "outputs": [],
   "source": [
    "#MATRIX MULTIPLICATION\n",
    "X=[[1,2,3],[4,4,5],[2,1,2]]\n",
    "Y=[[6,5,6],[6,4,4],[3,2,9]]\n",
    "result=[[0,0,0],[0,0,0],[0,0,0]]\n",
    "for i in range(len(X)):\n",
    "    for j in range(len(Y[0])):\n",
    "        for k in range(len(Y)):\n",
    "            result[i][j]+=X[i][k]*Y[k][j]\n",
    "for r in result:\n",
    "    print(r)\n",
    "        \n",
    "        \n",
    "        \n",
    "        "
   ]
  },
  {
   "cell_type": "markdown",
   "id": "c0f1808c",
   "metadata": {},
   "source": [
    "### FILE"
   ]
  },
  {
   "cell_type": "code",
   "execution_count": 10,
   "id": "90767edb",
   "metadata": {},
   "outputs": [
    {
     "data": {
      "text/plain": [
       "<_io.TextIOWrapper name='sample.txt' mode='r' encoding='cp1252'>"
      ]
     },
     "execution_count": 10,
     "metadata": {},
     "output_type": "execute_result"
    }
   ],
   "source": [
    "#OPENING A FILE\n",
    "file1=open(\"sample.txt\")\n",
    "file1"
   ]
  },
  {
   "cell_type": "code",
   "execution_count": 11,
   "id": "790841b7",
   "metadata": {},
   "outputs": [
    {
     "data": {
      "text/plain": [
       "'HELLO WORLD'"
      ]
     },
     "execution_count": 11,
     "metadata": {},
     "output_type": "execute_result"
    }
   ],
   "source": [
    "#READ A FILE\n",
    "file1=open(\"sample.txt\",\"r\")\n",
    "read_content=file1.read()\n",
    "read_content"
   ]
  },
  {
   "cell_type": "code",
   "execution_count": 12,
   "id": "b89cf68e",
   "metadata": {},
   "outputs": [
    {
     "data": {
      "text/plain": [
       "'HELLO WORLD'"
      ]
     },
     "execution_count": 12,
     "metadata": {},
     "output_type": "execute_result"
    }
   ],
   "source": [
    "#WRITE ON A FILE\n",
    "file1=open(\"sample.txt\",\"w\")\n",
    "file1.write(\"HELLO WORLD\")\n",
    "file1.close()\n",
    "\n",
    "file1=open(\"sample.txt\",\"r\")\n",
    "read_content=file1.read()\n",
    "read_content"
   ]
  },
  {
   "cell_type": "code",
   "execution_count": null,
   "id": "dcfaa4ea",
   "metadata": {},
   "outputs": [],
   "source": [
    "#Read the file of 3 position\n",
    "file1=open(\"sample.txt\")\n",
    "a=file1.read(3)\n",
    "print(a)\n"
   ]
  },
  {
   "cell_type": "code",
   "execution_count": null,
   "id": "2af9fafa",
   "metadata": {},
   "outputs": [],
   "source": [
    "#Check current position\n",
    "p=file1.tell()\n",
    "print(p)"
   ]
  },
  {
   "cell_type": "code",
   "execution_count": null,
   "id": "fbaa0427",
   "metadata": {},
   "outputs": [],
   "source": [
    "#Reposition pointer at the begining again\n",
    "s=file1.seek(0,0)\n",
    "a=file1.read(5)\n",
    "print(a)"
   ]
  },
  {
   "cell_type": "code",
   "execution_count": null,
   "id": "5dde497d",
   "metadata": {
    "scrolled": true
   },
   "outputs": [],
   "source": [
    "import sys\n",
    "x1=int(sys.argv[1])\n",
    "y1=int(sys.argv[2])\n",
    "x2=int(sys.argv[3])\n",
    "y2=int(sys.argv[4])\n",
    "distance=((x2-x1)**2+(y2-y1)**2)**0.5\n",
    "print(\"DISTANCE BETWEEN POINTS=\",distance)"
   ]
  },
  {
   "cell_type": "code",
   "execution_count": null,
   "id": "0d906658",
   "metadata": {},
   "outputs": [],
   "source": [
    "import os\n",
    "print(os.popen(\"python add.py 10 4 6 3\").read())"
   ]
  },
  {
   "cell_type": "markdown",
   "id": "63158639",
   "metadata": {},
   "source": [
    "#### BUBBLE SORT"
   ]
  },
  {
   "cell_type": "code",
   "execution_count": null,
   "id": "cfe28ce2",
   "metadata": {},
   "outputs": [],
   "source": [
    "num = int(input(\"Enter the number of values: \"))\n",
    "a_list=[]\n",
    "print(\"Enter the values:\")\n",
    "for k in range(num):\n",
    "    value = input()\n",
    "    a_list.extend(list(map(int, value.split())))\n",
    "def bubble_sort(a_list):\n",
    "    for i in range(0,len(a_list)-1): \n",
    "        for j in range(len(a_list)-1): \n",
    "            if(a_list[j]>a_list[j+1]): \n",
    "                temp = a_list[j]\n",
    "                a_list[j] = a_list[j+1] \n",
    "                a_list[j+1] = temp \n",
    "        return a_list \n",
    "print(\"original list: \", a_list) \n",
    "print(\"list after sorting: \", bubble_sort(a_list)) \n"
   ]
  },
  {
   "cell_type": "markdown",
   "id": "19d36176",
   "metadata": {},
   "source": [
    "### RECURSION"
   ]
  },
  {
   "cell_type": "code",
   "execution_count": 6,
   "id": "950211e2",
   "metadata": {},
   "outputs": [
    {
     "name": "stdout",
     "output_type": "stream",
     "text": [
      "Enter a number:10\n",
      "The sum is 55\n"
     ]
    }
   ],
   "source": [
    "def recur_sum(n):\n",
    "   if n <= 1:\n",
    "       return n\n",
    "   else:\n",
    "       return n + recur_sum(n-1)\n",
    "num=int(input(\"Enter a number:\"))\n",
    "if num < 0:\n",
    "   print(\"The number is less than 0\")\n",
    "else:\n",
    "   print(\"The sum is\",recur_sum(num))"
   ]
  },
  {
   "cell_type": "markdown",
   "id": "5e4d21f5",
   "metadata": {},
   "source": [
    "#### SET OPERATION"
   ]
  },
  {
   "cell_type": "code",
   "execution_count": 1,
   "id": "a8712c58",
   "metadata": {},
   "outputs": [
    {
     "name": "stdout",
     "output_type": "stream",
     "text": [
      "UNION {1, 2, 3, 4, 5, 6, 6.5, 7, 8, 9}\n",
      "INTERSECTION {5}\n",
      "DIFFRENCE {1, 2, 3, 4, 6}\n"
     ]
    }
   ],
   "source": [
    "#UNION\n",
    "a={1,2,3,4,5,6}\n",
    "b={6.5,5,7,8,9}\n",
    "c=a.union(b)\n",
    "print(\"UNION\",c)\n",
    "#INTERSECTION\n",
    "d=a.intersection(b)\n",
    "print(\"INTERSECTION\",d)\n",
    "#DIFFRENCE\n",
    "p=a.difference(b)\n",
    "print(\"DIFFRENCE\",p)"
   ]
  },
  {
   "cell_type": "markdown",
   "id": "a3af3029",
   "metadata": {},
   "source": [
    "#### PALLINDROME"
   ]
  },
  {
   "cell_type": "code",
   "execution_count": 3,
   "id": "821589ec",
   "metadata": {},
   "outputs": [
    {
     "name": "stdout",
     "output_type": "stream",
     "text": [
      "Enter a number: 121\n",
      "SUM:  242\n"
     ]
    }
   ],
   "source": [
    "def rvr(num):\n",
    " rev = 0\n",
    " temp = num\n",
    " while(temp>0):\n",
    "    rev = rev*10 + temp%10\n",
    "    temp = int(temp/10)\n",
    " return rev\n",
    "def pal(n):\n",
    " if n == rvr(n):\n",
    "    return True\n",
    " else:\n",
    "        return False\n",
    " \n",
    "def main(n):\n",
    " s = n + rvr(n)\n",
    " if(pal(s)):\n",
    "        print(\"SUM: \", s)\n",
    " else:\n",
    "    main(n)\n",
    " \n",
    "n = int(input(\"Enter a number: \"))\n",
    "main(n)\n"
   ]
  },
  {
   "cell_type": "code",
   "execution_count": 2,
   "id": "209410ed",
   "metadata": {},
   "outputs": [
    {
     "name": "stdout",
     "output_type": "stream",
     "text": [
      "Enter the number of students: 2\n",
      "\n",
      "Enter the name of student 1: Annu\n",
      "Enter the Rollno of student 1: 1\n",
      "Enter the Total Mark of student 1: 30\n",
      "\n",
      "Enter the name of student 2: Ima\n",
      "Enter the Rollno of student 2: 2\n",
      "Enter the Total Mark of student 2: 45\n",
      "\n",
      "Student with maximum mark:  Ima\n"
     ]
    }
   ],
   "source": [
    "def student_details():\n",
    "  n = int(input(\"Enter the number of students: \"))\n",
    "  stud_data = []\n",
    "  for i in range(n):\n",
    "    model = {\n",
    "      'name' : None,\n",
    "      'roll_no' : None,\n",
    "      'total_mark' : None\n",
    "    }\n",
    "    stud_data.append(model)\n",
    "    stud_data[i]['name'] = input(\"\\nEnter the name of student {}: \".format((i+1)))\n",
    "    stud_data[i]['roll_no'] = int(input(\"Enter the Rollno of student {}: \".format((i+1))))\n",
    "    stud_data[i]['total_mark'] = int(input(\"Enter the Total Mark of student {}: \".format((i+1)) ))  \n",
    "  max, value = -1, -1\n",
    "  for i in range(n):\n",
    "    if stud_data[i]['total_mark'] > value:\n",
    "      max = i\n",
    "      value = stud_data[i]['total_mark']\n",
    "  print(\"\\nStudent with maximum mark: \", stud_data[max]['name'])\n",
    "student_details()\n"
   ]
  },
  {
   "cell_type": "markdown",
   "id": "3fe1f1b6",
   "metadata": {},
   "source": [
    "#### PHONE DIRECTORY"
   ]
  },
  {
   "cell_type": "code",
   "execution_count": null,
   "id": "9bae2825",
   "metadata": {},
   "outputs": [
    {
     "name": "stdout",
     "output_type": "stream",
     "text": [
      "WELCOME TO THE PHONEBOOK DIRECTORY\n",
      "\n",
      "MAIN MENU\n",
      "\n",
      "1. Show all existing Contacts\n",
      "2. Add a new Contact\n",
      "3. Search the existing Contact\n",
      "4. Exit\n",
      "Enter your choice: 1\n",
      "MY PHONE BOOK\n",
      "[Aksa Thomas, 8976435328, abc2gmail.com]\n",
      "[Arya Jagish, 9087654321, xyz2gmail.com]\n",
      "[Jerusha Ann, 8945643532, jeru2gmail.com]\n",
      "Press Enter to continue ...2\n",
      "\n",
      "MAIN MENU\n",
      "\n",
      "1. Show all existing Contacts\n",
      "2. Add a new Contact\n",
      "3. Search the existing Contact\n",
      "4. Exit\n",
      "Enter your choice: 2\n",
      "Enter your First Name: Ima\n",
      "Enter your Last Name: Serah\n",
      "Enter your Phone number: 9495508949\n",
      "Enter your E-mail Address: ima@gmail.com\n",
      "The following Contact Details:\n",
      "[Ima Serah, 9495508949, ima@gmail.com]\n",
      "have been stored successfully!\n",
      "Press Enter to continue ...4\n",
      "\n",
      "MAIN MENU\n",
      "\n",
      "1. Show all existing Contacts\n",
      "2. Add a new Contact\n",
      "3. Search the existing Contact\n",
      "4. Exit\n"
     ]
    }
   ],
   "source": [
    "print(\"WELCOME TO THE PHONEBOOK DIRECTORY\")\n",
    "filename = \"phone_book.txt\"\n",
    "\n",
    "def main_menu():\n",
    "    print(\"\\nMAIN MENU\\n\")\n",
    "    print(\"1. Show all existing Contacts\")\n",
    "    print(\"2. Add a new Contact\")\n",
    "    print(\"3. Search the existing Contact\")\n",
    "    print(\"4. Exit\")\n",
    "    choice = input(\"Enter your choice: \")\n",
    "\n",
    "    if choice == \"1\":\n",
    "        show_all_contacts()\n",
    "    elif choice == \"2\":\n",
    "        add_new_contact()\n",
    "    elif choice == \"3\":\n",
    "        search_contact()\n",
    "    elif choice == \"4\":\n",
    "        print(\"EXIT\")\n",
    "        return\n",
    "    else:\n",
    "        print(\"Please provide a valid input!\\n\")\n",
    "\n",
    "    input(\"Press Enter to continue ...\")\n",
    "    main_menu()\n",
    "\n",
    "def show_all_contacts():\n",
    "    myfile = open(filename, \"r\")\n",
    "    filecontents = myfile.read()\n",
    "    if len(filecontents) == 0:\n",
    "        print(\"There are no contacts in the phonebook.\")\n",
    "    else:\n",
    "        print(filecontents)\n",
    "    myfile.close()\n",
    "\n",
    "def search_contact():\n",
    "    searchname = input(\"Enter First name for searching contact record: \")\n",
    "    remname = searchname[1:]\n",
    "    firstchar = searchname[0]\n",
    "    searchname = firstchar.upper() + remname\n",
    "\n",
    "    myfile = open(filename, \"r\")\n",
    "    filecontents = myfile.readlines()\n",
    "    found = False\n",
    "\n",
    "    for line in filecontents:\n",
    "        if searchname in line:\n",
    "            print(\"Your required contact record is:\", end=\" \")\n",
    "            print(line)\n",
    "            found = True\n",
    "            break\n",
    "\n",
    "    if not found:\n",
    "        print(\"The searched contact is not available in the Phone Book:\", searchname)\n",
    "\n",
    "    myfile.close()\n",
    "\n",
    "def add_new_contact():\n",
    "    firstname = input(\"Enter your First Name: \")\n",
    "    lastname = input(\"Enter your Last Name: \")\n",
    "    phoneNum = input(\"Enter your Phone number: \")\n",
    "    emailID = input(\"Enter your E-mail Address: \")\n",
    "    contactDetails = \"[\" + firstname + \" \" + lastname + \", \" + phoneNum + \", \" + emailID + \"]\\n\"\n",
    "\n",
    "    myfile = open(filename, \"a\")\n",
    "    myfile.write(contactDetails)\n",
    "    myfile.close()\n",
    "\n",
    "    print(\"The following Contact Details:\\n\" + contactDetails + \"have been stored successfully!\")\n",
    "\n",
    "main_menu()"
   ]
  },
  {
   "cell_type": "code",
   "execution_count": null,
   "id": "e4f45d12",
   "metadata": {},
   "outputs": [],
   "source": [
    "a = ['Name:Jino Ann Thomas',\n",
    "     'Dept:MSCCS'\n",
    "      'College:RCSS'\n",
    "     ]\n",
    "fnew = open(\"file1\", 'w')\n",
    "for i in a:\n",
    "  fnew.write(i+\"\\n\")\n",
    "fnew.close()\n",
    "file1 = open(\"file1\", \"r\")\n",
    "file2 = open(\"file2\", \"w\")\n",
    "#copying contents of file1 to file2\n",
    "for x in file1:\n",
    "  file2.write(x)\n",
    "file1.close()\n",
    "file2.close()\n"
   ]
  },
  {
   "cell_type": "markdown",
   "id": "154bd808",
   "metadata": {},
   "source": [
    "#### BUBBLE SORT\n"
   ]
  },
  {
   "cell_type": "code",
   "execution_count": 2,
   "id": "789ec649",
   "metadata": {},
   "outputs": [
    {
     "name": "stdout",
     "output_type": "stream",
     "text": [
      "Enter a list of numbers 1 2 9 4 3 7\n",
      "Before sorting: [1, 2, 9, 4, 3, 7]\n",
      "After sorting: [1, 2, 3, 4, 7, 9]\n"
     ]
    }
   ],
   "source": [
    "def bubble_sort(arr):\n",
    "    n = len(arr)\n",
    "    for i in range(n - 1):\n",
    "        for j in range(n - i - 1):\n",
    "            if arr[j] > arr[j + 1]:\n",
    "                arr[j], arr[j + 1] = arr[j + 1], arr[j]\n",
    "\n",
    "# User input\n",
    "numbers = input(\"Enter a list of numbers \").split()\n",
    "numbers = [int(num) for num in numbers]\n",
    "\n",
    "print(\"Before sorting:\", numbers)\n",
    "bubble_sort(numbers)\n",
    "print(\"After sorting:\", numbers)"
   ]
  },
  {
   "cell_type": "markdown",
   "id": "4e6ac212",
   "metadata": {},
   "source": [
    "#### QUICK SORT"
   ]
  },
  {
   "cell_type": "code",
   "execution_count": 3,
   "id": "864bbae6",
   "metadata": {},
   "outputs": [
    {
     "name": "stdout",
     "output_type": "stream",
     "text": [
      "Enter a list of numbers3 5 1 2 \n",
      "Before sorting: [3, 5, 1, 2]\n",
      "After sorting: [1, 2, 3, 5]\n"
     ]
    }
   ],
   "source": [
    "def quick_sort(arr):\n",
    "    if len(arr) <= 1:\n",
    "        return arr\n",
    "    pivot = arr[len(arr) // 2]\n",
    "    left = [x for x in arr if x < pivot]\n",
    "    middle = [x for x in arr if x == pivot]\n",
    "    right = [x for x in arr if x > pivot]\n",
    "    return quick_sort(left) + middle + quick_sort(right)\n",
    "\n",
    "# User input\n",
    "numbers = input(\"Enter a list of numbers\").split()\n",
    "numbers = [int(num) for num in numbers]\n",
    "\n",
    "print(\"Before sorting:\", numbers)\n",
    "numbers = quick_sort(numbers)\n",
    "print(\"After sorting:\", numbers)"
   ]
  },
  {
   "cell_type": "markdown",
   "id": "41288d6f",
   "metadata": {},
   "source": [
    "### LINEAR SEARCH"
   ]
  },
  {
   "cell_type": "code",
   "execution_count": 4,
   "id": "49635ab1",
   "metadata": {},
   "outputs": [
    {
     "name": "stdout",
     "output_type": "stream",
     "text": [
      "Enter a list of numbers: 1 2 4 6 8\n",
      "Enter the number to find out: 4\n",
      "Number 4 is found at index 2\n"
     ]
    }
   ],
   "source": [
    "def linear_search(arr, element):\n",
    "    for i in range(len(arr)):\n",
    "        if arr[i] == element:\n",
    "            return i\n",
    "    return -1\n",
    "numbers = input(\"Enter a list of numbers: \").split()\n",
    "numbers = [int(num) for num in numbers]\n",
    "element= int(input(\"Enter the number to find out: \"))\n",
    "index = linear_search(numbers, element)\n",
    "if index != -1:\n",
    "    print(\"Number\", element, \"is found at index\", index)\n",
    "else:\n",
    "    print(\"Number is not found\", element, \"in the list.\")"
   ]
  },
  {
   "cell_type": "markdown",
   "id": "a8d9253a",
   "metadata": {},
   "source": [
    "### BINARY SERACH"
   ]
  },
  {
   "cell_type": "code",
   "execution_count": 5,
   "id": "a48284c6",
   "metadata": {},
   "outputs": [
    {
     "name": "stdout",
     "output_type": "stream",
     "text": [
      "Enter the numbers: 1 2 3 4 5 6\n",
      "Enter the number to be found: 8\n",
      "Number 8 not found in the list.\n"
     ]
    }
   ],
   "source": [
    "def binary_search(arr,element):\n",
    "    low = 0\n",
    "    high = len(arr) - 1\n",
    "\n",
    "    while low <= high:\n",
    "        mid = (low + high) // 2\n",
    "        if arr[mid] == element:\n",
    "            return mid\n",
    "        elif arr[mid] < element:\n",
    "            low = mid + 1\n",
    "        else:\n",
    "            high = mid - 1\n",
    "\n",
    "    return -1\n",
    "numbers = input(\"Enter the numbers: \").split()\n",
    "numbers = [int(num) for num in numbers]\n",
    "element = int(input(\"Enter the number to be found: \"))\n",
    "\n",
    "index = binary_search(numbers, element)\n",
    "\n",
    "if index != -1:\n",
    "    print(\"Number\", element, \"found at index\", index)\n",
    "else:\n",
    "    print(\"Number\", element, \"not found in the list.\")\n"
   ]
  },
  {
   "cell_type": "markdown",
   "id": "f3340939",
   "metadata": {},
   "source": [
    "### POLYMORPHISM"
   ]
  },
  {
   "cell_type": "code",
   "execution_count": null,
   "id": "2fa03e1b",
   "metadata": {},
   "outputs": [],
   "source": [
    "class Shape:\n",
    "    def calculate_area(self):               \n",
    "        class Rectangle(Shape):\n",
    "            def __init__(self, length, breadth):\n",
    "                self.length = length\n",
    "                self.breadth = breadth\n",
    "            def calculate_area(self):\n",
    "                return self.length * self.breadth\n",
    "\n",
    "        class Circle(Shape):\n",
    "            def __init__(self, radius):\n",
    "                self.radius = radius\n",
    "\n",
    "            def calculate_area(self):\n",
    "                return 3.14 * self.radius**2\n",
    "shapes = [Rectangle(6, 3), Circle(2)]\n",
    "\n",
    "for shape in shapes:\n",
    "    print(\"Area:\", shape.calculate_area())"
   ]
  },
  {
   "cell_type": "markdown",
   "id": "ba3cae7f",
   "metadata": {},
   "source": [
    "### dataset"
   ]
  },
  {
   "cell_type": "code",
   "execution_count": null,
   "id": "00af4164",
   "metadata": {},
   "outputs": [],
   "source": [
    "import pandas as pd\n",
    "df=pd.read_csv(\"alphabet_stock_data.csv\")\n",
    "df"
   ]
  },
  {
   "cell_type": "code",
   "execution_count": null,
   "id": "e33f1175",
   "metadata": {},
   "outputs": [],
   "source": [
    "import matplotlib.pyplot as plt\n",
    "start_date=pd.to_datetime('2020-04-24')\n",
    "end_date=pd.to_datetime('2020-09-30')\n",
    "df['Date'] = pd.to_datetime(df['Date'])\n",
    "new_df = (df['Date']>= start_date) & (df['Date']<= end_date)\n",
    "df1 = df.loc[new_df]\n",
    "df2 = df1.set_index('Date')\n",
    "plt.figure(figsize=(5,5))\n",
    "plt.suptitle('Stock prices', fontsize=18, color='black')\n",
    "plt.xlabel(\"Date\",fontsize=16, color='black')\n",
    "plt.ylabel(\"$ price\", fontsize=16, color='black')\n",
    "df2['Close'].plot(color='green');\n",
    "plt.show()                                     \n",
    "                                      \n"
   ]
  },
  {
   "cell_type": "markdown",
   "id": "ad9a2297",
   "metadata": {},
   "source": [
    "### BARPLOT"
   ]
  },
  {
   "cell_type": "code",
   "execution_count": null,
   "id": "c6a4acb7",
   "metadata": {},
   "outputs": [],
   "source": [
    "start_date = pd.to_datetime('2020-4-1')\n",
    "end_date = pd.to_datetime('2020-9-30') \n",
    "df['Date'] = pd.to_datetime(df['Date'])\n",
    "new_df = (df['Date']>= start_date) & (df['Date']<= end_date) \n",
    "df1 = df.loc[new_df]\n",
    "df2 = df1[['Open','Close','High','Low']] \n",
    "plt.figure(figsize=(25,25)) \n",
    "df2.plot.hist(alpha=0.5)\n",
    "plt.suptitle('Opening/Closing/High/Low stock prices', fontsize=12, color='black')\n",
    "plt.show()\n"
   ]
  },
  {
   "cell_type": "code",
   "execution_count": null,
   "id": "3d7d41fe",
   "metadata": {},
   "outputs": [],
   "source": [
    "import pandas as pd\n",
    "import matplotlib.pyplot as plt\n",
    "df = pd.read_csv(\"alphabet_stock_data.csv\") \n",
    "start_date = pd.to_datetime('2020-4-1')\n",
    "end_date = pd.to_datetime('2020-4-30') \n",
    "df['Date'] = pd.to_datetime(df['Date'])\n",
    "new_df = (df['Date']>= start_date) & (df['Date']<= end_date) \n",
    "df1 = df.loc[new_df]\n",
    "df2 = df1.set_index('Date') \n",
    "plt.figure(figsize=(6,6))\n",
    "plt.suptitle('Trading Volume of Alphabet', fontsize=16, color='black')\n",
    "plt.xlabel(\"Date\",fontsize=12, color='black')\n",
    "plt.ylabel(\"Trading Volume\", fontsize=12, color='black') \n",
    "df2['Volume'].plot(kind='bar');\n",
    "plt.show()"
   ]
  },
  {
   "cell_type": "code",
   "execution_count": null,
   "id": "00deabd6",
   "metadata": {},
   "outputs": [],
   "source": [
    "import pandas as pd\n",
    "import matplotlib.pyplot as plt\n",
    "df = pd.read_csv(\"alphabet_stock_data.csv\") \n",
    "start_date = pd.to_datetime('2020-4-1')\n",
    "end_date = pd.to_datetime('2020-9-30') \n",
    "df['Date'] = pd.to_datetime(df['Date'])\n",
    "new_df = (df['Date']>= start_date) & (df['Date']<= end_date)\n",
    "df1 = df.loc[new_df]\n",
    "df2 = df1.set_index('Date') \n",
    "x= ['Close']; \n",
    "y = ['Volume'];\n",
    "plt.figure(figsize=[15,10]) \n",
    "df2.plot.scatter(x, y, s=50); \n",
    "plt.grid(True)\n",
    "plt.title('Trading Volume/Price',fontsize=14, color='black')\n",
    "plt.xlabel(\"Stock Price\",fontsize=12, color='black')\n",
    "plt.ylabel(\"Trading Volume\", fontsize=12, color='black')\n",
    "plt.show()\n"
   ]
  },
  {
   "cell_type": "code",
   "execution_count": null,
   "id": "7d4560ed",
   "metadata": {},
   "outputs": [],
   "source": [
    "import math\n",
    "x1=int(input(\"Enter the X1 value : \"))\n",
    "x2=int(input(\"Enter the X2 value : \"))\n",
    "y1=int(input(\"Enter the Y1 value : \"))\n",
    "y2=int(input(\"Enter the Y2 value : \"))\n",
    "a=math.pow((x2-x1),2)\n",
    "b=math.pow((y2-y1),2)\n",
    "result=a+b\n",
    "print(\"The distance between the entered points is:\",math.sqrt(result))"
   ]
  },
  {
   "cell_type": "markdown",
   "id": "5fe204b2",
   "metadata": {},
   "source": [
    "### PREPROCESSING"
   ]
  },
  {
   "cell_type": "code",
   "execution_count": null,
   "id": "cbc5d1f4",
   "metadata": {},
   "outputs": [],
   "source": [
    "import pandas as pd\n",
    "df=pd.read_csv(\"data.csv\")\n",
    "df"
   ]
  },
  {
   "cell_type": "code",
   "execution_count": null,
   "id": "c1b8d73c",
   "metadata": {},
   "outputs": [],
   "source": [
    "import pandas as pd\n",
    "df = pd.read_csv('data.csv') \n",
    "df.head()\n",
    "missing_values=df.isnull()\n",
    "missing_values\n",
    "missing_count=missing_values.sum()\n",
    "missing_count"
   ]
  },
  {
   "cell_type": "code",
   "execution_count": null,
   "id": "64756f65",
   "metadata": {},
   "outputs": [],
   "source": [
    "sum=df.shape\n",
    "sum"
   ]
  },
  {
   "cell_type": "code",
   "execution_count": null,
   "id": "5116b5ff",
   "metadata": {},
   "outputs": [],
   "source": [
    "from sklearn.impute import SimpleImputer\n",
    "\n",
    "# Create an instance of SimpleImputer\n",
    "imputer = SimpleImputer(strategy='mean')\n",
    "\n",
    "# Fit and transform the imputer on the DataFrame to impute missing values\n",
    "df['Age'] = imputer.fit_transform(df[['Age']])\n",
    "df['Salary'] = imputer.fit_transform(df[['Salary']])"
   ]
  },
  {
   "cell_type": "code",
   "execution_count": null,
   "id": "10161d0c",
   "metadata": {},
   "outputs": [],
   "source": [
    "df"
   ]
  },
  {
   "cell_type": "code",
   "execution_count": null,
   "id": "41d03043",
   "metadata": {},
   "outputs": [],
   "source": [
    "import pandas as pd\n",
    "cricketers = {\n",
    "'Name': ['Virat Kohli', 'Rohit Sharma', 'Babar Asam', 'Trent Boult', 'Jasprit Bumrah', 'Mujeeb Ur Rahman', 'Muhammed Nabi', 'Ben Strokes'],\n",
    "'Age' : [31, 33, 25, 31, 26, 19, 35, 29],\n",
    "'Grade' : ['Best', 'Better', 'Good', 'Best', 'Better', 'Good', 'Best', 'Best'],\n",
    "'Role' : ['Batsmen', 'Batsmen', 'Batsmen', 'Bowler', 'Bowler', 'Bowler','All Rounder', 'All Rounder'],\n",
    "'Rating' : [871, 869, 829, 722, 719, 701, 765, 858],\n",
    "'Country' : ['IND', 'IND', 'PAK', 'NZ', 'IND', 'AFG', 'AFG', 'ENG']\n",
    "}\n",
    "df_cricketers = pd.DataFrame(cricketers)\n",
    "df_cricketers.head()\n",
    "bins = [0,20,30, 40]\n",
    "group_names = ['Young', 'Senior', 'Super Senior']\n",
    "df_cricketers['Experience Category'] = pd.cut(df_cricketers['Age'], bins, labels=group_names)\n",
    "df_cricketers.head()"
   ]
  },
  {
   "cell_type": "code",
   "execution_count": null,
   "id": "adb89ef8",
   "metadata": {},
   "outputs": [],
   "source": [
    "import matplotlib.pyplot as plt \n",
    "import numpy as np\n",
    "car_age = np.array([5,7,8,7,2,17,2,9,4,11,12,9,6])\n",
    "car_speed = np.array([99,86,87,88,111,86,103,87,94,78,77,85,86])\n",
    "dataset = pd.DataFrame({ \"Car Age\" : car_age,\"Car Speed\" : car_speed})\n",
    "plt.scatter(dataset['Car Age'], dataset['Car Speed']) \n",
    "plt.title('Car Age Vs. Car Speed')\n",
    "plt.xlabel('Car Age') \n",
    "plt.ylabel('Car Speed') \n",
    "plt.show()"
   ]
  },
  {
   "cell_type": "markdown",
   "id": "e6b533d2",
   "metadata": {},
   "source": [
    "### Write a NumPy program to create a structured array from given student name,  height, class, and data types. Now sort by class, then height if the class are  equal."
   ]
  },
  {
   "cell_type": "code",
   "execution_count": null,
   "id": "4da9fada",
   "metadata": {},
   "outputs": [],
   "source": [
    "import numpy as np\n",
    "data_type=[('name','U15'),('class',int),('height',float)]\n",
    "student_detail=[('Vyshakh',5,31.5),('Amal',9,23.3),('Rahul',5,45.3),('Rohith',4,23.3)]\n",
    "students=np.array(student_detail,dtype=data_type)\n",
    "print(\"Orginal Array\")\n",
    "print(students)\n",
    "print(\"Sort by class then height if classes are equal\")\n",
    "print(np.sort(students,order=['class','height']))"
   ]
  },
  {
   "cell_type": "markdown",
   "id": "2d840158",
   "metadata": {},
   "source": [
    "##### Write a NumPy program to sort a given array by the nth column."
   ]
  },
  {
   "cell_type": "code",
   "execution_count": null,
   "id": "794c0f2f",
   "metadata": {},
   "outputs": [],
   "source": [
    "import numpy as np\n",
    "print(\"Original Array\")\n",
    "nums=np.random.randint(0,10,(3,3))    #3 row ,3 column b/w 0 and 10\n",
    "print(nums)\n",
    "print(\"\\nSort the array by the nth column\")\n",
    "print(nums[nums[:,1].argsort()]) \n",
    "\n"
   ]
  },
  {
   "cell_type": "markdown",
   "id": "12f4456b",
   "metadata": {},
   "source": [
    "##### Calculate the sum of the diagonal elements of a NumPy array"
   ]
  },
  {
   "cell_type": "code",
   "execution_count": null,
   "id": "66677160",
   "metadata": {},
   "outputs": [],
   "source": [
    "import numpy as np\n",
    "num=np.array([[57,26,15],\n",
    "              [13,44,29],\n",
    "              [11,13,14]])\n",
    "print(\"Numpy matrix is:\")\n",
    "print(num)\n",
    "trace=np.trace(num) #trace-Sum of the diagonal elements\n",
    "print(\"\\nSum of diagonal elements\")\n",
    "print(trace)"
   ]
  },
  {
   "cell_type": "markdown",
   "id": "385764ad",
   "metadata": {},
   "source": [
    "##### Convert covariance matrix to correlation matrix using Python"
   ]
  },
  {
   "cell_type": "code",
   "execution_count": null,
   "id": "f08e36a3",
   "metadata": {},
   "outputs": [],
   "source": [
    "import numpy as np\n",
    "num=np.array([[1,2,3],\n",
    "             [2,4,5],\n",
    "              [1,2,3]])\n",
    "print(\"Matrix:\")\n",
    "print(num)\n",
    "std.dev\n"
   ]
  },
  {
   "cell_type": "code",
   "execution_count": null,
   "id": "b66ab573",
   "metadata": {},
   "outputs": [],
   "source": [
    "import pandas as pd\n",
    "std_data=pd.DataFrame({\n",
    "    'Std_id':[\"S1\",\"S2\",\"S3\",\"S4\",\"S5\"]\n",
    "    'Name':[\"Amal\",\"Vyshakh\",\"Sree\",\"Reethu\",\"Ashna\"]\n",
    "    \n",
    "})"
   ]
  },
  {
   "cell_type": "code",
   "execution_count": null,
   "id": "ec68b9b9",
   "metadata": {},
   "outputs": [],
   "source": [
    "def check_substring():\n",
    "    string1 = input(\"Enter the string1: \")\n",
    "    string2 = input(\"Enter the string2: \")\n",
    "    \n",
    "    if string2 in string1:\n",
    "        print(f\"'{string2}' is a substring of '{string1}'.\")\n",
    "    else:\n",
    "        print(f\"'{string2}' is not a substring of '{string1}'.\")\n",
    "\n",
    "def count_occurrences():\n",
    "    string = input(\"Enter a string: \")\n",
    "    char = input(\"Enter the character to count: \")\n",
    "    \n",
    "    count = string.count(char)\n",
    "    print(f\"The character '{char}' appears {count} times in the string.\")\n",
    "\n",
    "def replace_substring():\n",
    "    string = input(\"Enter the main string: \")\n",
    "    old_substring = input(\"Enter the substring to replace: \")\n",
    "    new_substring = input(\"Enter the new substring: \")\n",
    "    \n",
    "    new_string = string.replace(old_substring, new_substring)\n",
    "    print(f\"Modified string: {new_string}\")\n",
    "\n",
    "def convert_to_uppercase():\n",
    "    string = input(\"Enter a string: \")\n",
    "    uppercase_string = string.upper()\n",
    "    print(f\"Uppercase string: {uppercase_string}\")\n",
    "\n",
    "while True:\n",
    "    print(\"\\nMenu:\")\n",
    "    print(\"A) Check String is Substring of Another String\")\n",
    "    print(\"B) Count Occurrences of Character\")\n",
    "    print(\"C) Replace a Substring with Another Substring\")\n",
    "    print(\"D) Convert to Capital Letters\")\n",
    "    print(\"E) Exit\")\n",
    "    \n",
    "    choice = input(\"Enter your choice: \").upper()\n",
    "    \n",
    "    if choice == \"A\":\n",
    "        check_substring()\n",
    "    elif choice == \"B\":\n",
    "        count_occurrences()\n",
    "    elif choice == \"C\":\n",
    "        replace_substring()\n",
    "    elif choice == \"D\":\n",
    "        convert_to_uppercase()\n",
    "    elif choice == \"E\":\n",
    "        print(\"Exiting the program.\")\n",
    "        break\n",
    "    else:\n",
    "        print(\"Invalid choice. Please select a valid option.\")"
   ]
  },
  {
   "cell_type": "code",
   "execution_count": 1,
   "id": "67108507",
   "metadata": {},
   "outputs": [
    {
     "name": "stdout",
     "output_type": "stream",
     "text": [
      "\n",
      "String Operation Menu\n",
      "1. Check String is Substring of Another String\n",
      "2. Count Occurrences of Character\n",
      "3. Replace a substring with another substring\n",
      "4. Convert to Capital Letters\n",
      "5. Exit\n",
      "Enter Selection: 1\n",
      "\n",
      "Enter String: rajagiri\n",
      "Enter Sub-String: giti\n",
      "Substring not found\n",
      "\n",
      "String Operation Menu\n",
      "1. Check String is Substring of Another String\n",
      "2. Count Occurrences of Character\n",
      "3. Replace a substring with another substring\n",
      "4. Convert to Capital Letters\n",
      "5. Exit\n",
      "Enter Selection: 4\n",
      "\n",
      "Enter a string: rajagiri\n",
      "Converted string:  RAJAGIRI\n",
      "\n",
      "String Operation Menu\n",
      "1. Check String is Substring of Another String\n",
      "2. Count Occurrences of Character\n",
      "3. Replace a substring with another substring\n",
      "4. Convert to Capital Letters\n",
      "5. Exit\n",
      "Enter Selection: 5\n"
     ]
    }
   ],
   "source": [
    "def substring_check():\n",
    "  string = input(\"\\nEnter String: \")\n",
    "  sub_string = input(\"Enter Sub-String: \")\n",
    "  if string.find(sub_string) != -1:\n",
    "    print(sub_string +\" is a substring of \" + string)\n",
    "  else:\n",
    "    print(\"Substring not found\")\n",
    "def count_occurances():\n",
    "  string = input(\"\\nEnter String: \")\n",
    "  char = input(\"Enter a character: \")\n",
    "  count = 0 \n",
    "  for x in string:\n",
    "    if char == x:\n",
    "      count += 1\n",
    "  if(count >= 1):\n",
    "    print(\"Count = \" + str(count))\n",
    "  else:\n",
    "    print(\"Character not found\")\n",
    "def replace_substring():\n",
    "  string = input(\"\\nEnter String: \")\n",
    "  sub_string = input(\"Enter Sub-String: \")\n",
    "  rep_sub_string = input(\"Enter Sub-String to replace with: \")\n",
    "  if string.find(sub_string) != -1:\n",
    "    string = string.replace(sub_string, rep_sub_string)\n",
    "    print(sub_string +\" is replaced with \" + rep_sub_string)\n",
    "    print(\"New String = \" + string)\n",
    "  else:\n",
    "    print(\"Substring not found\")\n",
    "def convert_caps():\n",
    "  string = input(\"\\nEnter a string: \")\n",
    "  print(\"Converted string: \",string.upper())\n",
    "\n",
    "while(True):\n",
    "  try:\n",
    "    print(\"\\nString Operation Menu\")\n",
    "    print(\"1. Check String is Substring of Another String\")\n",
    "    print(\"2. Count Occurrences of Character\")\n",
    "    print(\"3. Replace a substring with another substring\")\n",
    "    print(\"4. Convert to Capital Letters\")\n",
    "    print(\"5. Exit\")\n",
    "    x = int(input(\"Enter Selection: \"))\n",
    "    if(x == 5):\n",
    "      break\n",
    "    if x>=1 and x<=4:\n",
    "      if(x == 1):\n",
    "        substring_check()\n",
    "      if(x == 2): \n",
    "        count_occurances()\n",
    "      if(x == 3):\n",
    "        replace_substring()\n",
    "      if(x == 4):\n",
    "        convert_caps()\n",
    "    else:\n",
    "      print(\"Only Numbers between 1-4 is allowed as input\")\n",
    "  except:\n",
    "    print(\"Only Numbers between 1-4 is allowed as input\")\n"
   ]
  },
  {
   "cell_type": "markdown",
   "id": "efd9ac59",
   "metadata": {},
   "source": [
    "##### FACTORIAL IN A DICTIONARY"
   ]
  },
  {
   "cell_type": "code",
   "execution_count": 9,
   "id": "c2057bbf",
   "metadata": {},
   "outputs": [
    {
     "name": "stdout",
     "output_type": "stream",
     "text": [
      "ENTER THE NUMBER: 3\n",
      "{3: 6}\n"
     ]
    }
   ],
   "source": [
    "value = dict()\n",
    "def fact(n):\n",
    "    temp, factorial = n, 1\n",
    "    while(temp>1):\n",
    "        factorial *= temp\n",
    "        temp -= 1\n",
    "    value[n] = factorial\n",
    "    return factorial\n",
    "n=int(input(\"ENTER THE NUMBER: \"))\n",
    "fact(n)\n",
    "print(value)\n",
    "\n",
    "\n"
   ]
  },
  {
   "cell_type": "code",
   "execution_count": 9,
   "id": "f0c935eb",
   "metadata": {},
   "outputs": [],
   "source": [
    "a = [\n",
    "     'hello',\n",
    "     'good',\n",
    "     'morning'\n",
    "     ]\n",
    "fnew = open(\"file1\", 'w')\n",
    "for i in a:\n",
    "  fnew.write(i+\"\\n\")\n",
    "fnew.close()\n",
    "file1 = open(\"file1\", \"r\")\n",
    "file2 = open(\"file2\", \"w\")\n",
    "#copying contents of file1 to file2\n",
    "for x in file1:\n",
    "  file2.write(x)\n",
    "file1.close()\n",
    "file2.close()\n"
   ]
  },
  {
   "cell_type": "code",
   "execution_count": 1,
   "id": "8ace8dc4",
   "metadata": {},
   "outputs": [],
   "source": [
    "import os\n",
    "\n",
    "# Define the directory name\n",
    "directory_name = \"my_directory\"\n",
    "\n",
    "# Create the directory\n",
    "os.mkdir(directory_name)\n"
   ]
  },
  {
   "cell_type": "code",
   "execution_count": 2,
   "id": "05bf3621",
   "metadata": {},
   "outputs": [],
   "source": [
    "import os\n",
    "\n",
    "# Specify the directory you want to list\n",
    "directory_name = \"my_directory\"\n",
    "\n",
    "# List the files and subdirectories in the specified directory\n",
    "directory_contents = os.listdir(directory_name)\n",
    "\n",
    "# Print the list\n",
    "for item in directory_contents:\n",
    "    print(item)\n"
   ]
  },
  {
   "cell_type": "code",
   "execution_count": 3,
   "id": "f828295e",
   "metadata": {},
   "outputs": [],
   "source": [
    "import os\n",
    "\n",
    "# Specify the directory where you want to search for .py files\n",
    "directory_name = \"my_directory\"\n",
    "\n",
    "# Iterate through the files in the directory and print those with a .py extension\n",
    "for root, dirs, files in os.walk(directory_name):\n",
    "    for file in files:\n",
    "        if file.endswith(\".py\"):\n",
    "            print(os.path.join(root, file))\n"
   ]
  },
  {
   "cell_type": "code",
   "execution_count": 4,
   "id": "7f17fc70",
   "metadata": {},
   "outputs": [
    {
     "name": "stdout",
     "output_type": "stream",
     "text": [
      "The file does not exist.\n"
     ]
    }
   ],
   "source": [
    "import os\n",
    "\n",
    "# Specify the file you want to remove\n",
    "file_to_remove = \"my_directory/my_file.txt\"\n",
    "\n",
    "# Check if the file exists before attempting to remove it\n",
    "if os.path.exists(file_to_remove):\n",
    "    os.remove(file_to_remove)\n",
    "else:\n",
    "    print(\"The file does not exist.\")\n"
   ]
  },
  {
   "cell_type": "code",
   "execution_count": 15,
   "id": "03dcc55d",
   "metadata": {},
   "outputs": [
    {
     "name": "stdout",
     "output_type": "stream",
     "text": [
      "Enter amount to be deposited: 1200\n",
      "Amount Deposited: 1200.0\n",
      "Enter amount to withdraw: 200\n",
      "You withdraw: 200.0\n",
      "Net Available Balance = 1000.0\n"
     ]
    }
   ],
   "source": [
    "class Bank_Account:\n",
    "    def __init__(self):\n",
    "        self.balance = 0\n",
    "\n",
    "    def deposit(self):\n",
    "        amount = float(input(\"Enter amount to be deposited: \"))\n",
    "        self.balance += amount\n",
    "        print(\"Amount Deposited:\", amount)\n",
    "\n",
    "    def withdraw(self):\n",
    "        amount = float(input(\"Enter amount to withdraw: \"))\n",
    "        if self.balance >= amount:\n",
    "            self.balance -= amount\n",
    "            print(\"You withdraw:\", amount)\n",
    "        else:\n",
    "            print(\"Insufficient balance\")\n",
    "\n",
    "    def display(self):\n",
    "        print(\"Net Available Balance =\", self.balance)\n",
    "\n",
    "\n",
    "\n",
    "# Creating an object of class\n",
    "s = Bank_Account()\n",
    "\n",
    "# Calling functions with that class\n",
    "s.deposit()\n",
    "s.withdraw()\n",
    "s.display()\n"
   ]
  },
  {
   "cell_type": "code",
   "execution_count": 16,
   "id": "3ce2b933",
   "metadata": {},
   "outputs": [
    {
     "name": "stdout",
     "output_type": "stream",
     "text": [
      "Mammal\n",
      "Four\n",
      "Mammal\n",
      "Four\n"
     ]
    }
   ],
   "source": [
    "class Dog(): \n",
    "\n",
    "     def animal_kingdom(self): \n",
    "\n",
    "       print(\"Mammal\") \n",
    "\n",
    "     def legs(self):\n",
    "\n",
    "       print(\"Four\") \n",
    "\n",
    "class Lizard(): \n",
    "\n",
    "     def animal_kingdom(self): \n",
    "\n",
    "       print(\"Mammal\") \n",
    "\n",
    "     def legs(self): \n",
    "\n",
    "       print(\"Four\") \n",
    "\n",
    "def function1(obj): \n",
    "\n",
    "       obj.animal_kingdom() \n",
    "\n",
    "       obj.legs()\n",
    "\n",
    "obj_dog = Dog() \n",
    "\n",
    "obj_lizard = Lizard() \n",
    "\n",
    "function1(obj_dog) \n",
    "\n",
    "function1(obj_lizard)"
   ]
  },
  {
   "cell_type": "code",
   "execution_count": 1,
   "id": "183d3a95",
   "metadata": {},
   "outputs": [
    {
     "data": {
      "text/html": [
       "<div>\n",
       "<style scoped>\n",
       "    .dataframe tbody tr th:only-of-type {\n",
       "        vertical-align: middle;\n",
       "    }\n",
       "\n",
       "    .dataframe tbody tr th {\n",
       "        vertical-align: top;\n",
       "    }\n",
       "\n",
       "    .dataframe thead th {\n",
       "        text-align: right;\n",
       "    }\n",
       "</style>\n",
       "<table border=\"1\" class=\"dataframe\">\n",
       "  <thead>\n",
       "    <tr style=\"text-align: right;\">\n",
       "      <th></th>\n",
       "      <th>number_people</th>\n",
       "      <th>date</th>\n",
       "      <th>timestamp</th>\n",
       "      <th>day_of_week</th>\n",
       "      <th>is_weekend</th>\n",
       "      <th>is_holiday</th>\n",
       "      <th>temperature</th>\n",
       "      <th>is_start_of_semester</th>\n",
       "      <th>is_during_semester</th>\n",
       "      <th>month</th>\n",
       "      <th>hour</th>\n",
       "    </tr>\n",
       "  </thead>\n",
       "  <tbody>\n",
       "    <tr>\n",
       "      <th>0</th>\n",
       "      <td>37</td>\n",
       "      <td>2015-08-14 17:00:11-07:00</td>\n",
       "      <td>61211</td>\n",
       "      <td>4</td>\n",
       "      <td>0</td>\n",
       "      <td>0</td>\n",
       "      <td>71.76</td>\n",
       "      <td>0</td>\n",
       "      <td>0</td>\n",
       "      <td>8</td>\n",
       "      <td>17</td>\n",
       "    </tr>\n",
       "    <tr>\n",
       "      <th>1</th>\n",
       "      <td>45</td>\n",
       "      <td>2015-08-14 17:20:14-07:00</td>\n",
       "      <td>62414</td>\n",
       "      <td>4</td>\n",
       "      <td>0</td>\n",
       "      <td>0</td>\n",
       "      <td>71.76</td>\n",
       "      <td>0</td>\n",
       "      <td>0</td>\n",
       "      <td>8</td>\n",
       "      <td>17</td>\n",
       "    </tr>\n",
       "    <tr>\n",
       "      <th>2</th>\n",
       "      <td>40</td>\n",
       "      <td>2015-08-14 17:30:15-07:00</td>\n",
       "      <td>63015</td>\n",
       "      <td>4</td>\n",
       "      <td>0</td>\n",
       "      <td>0</td>\n",
       "      <td>71.76</td>\n",
       "      <td>0</td>\n",
       "      <td>0</td>\n",
       "      <td>8</td>\n",
       "      <td>17</td>\n",
       "    </tr>\n",
       "    <tr>\n",
       "      <th>3</th>\n",
       "      <td>44</td>\n",
       "      <td>2015-08-14 17:40:16-07:00</td>\n",
       "      <td>63616</td>\n",
       "      <td>4</td>\n",
       "      <td>0</td>\n",
       "      <td>0</td>\n",
       "      <td>71.76</td>\n",
       "      <td>0</td>\n",
       "      <td>0</td>\n",
       "      <td>8</td>\n",
       "      <td>17</td>\n",
       "    </tr>\n",
       "    <tr>\n",
       "      <th>4</th>\n",
       "      <td>45</td>\n",
       "      <td>2015-08-14 17:50:17-07:00</td>\n",
       "      <td>64217</td>\n",
       "      <td>4</td>\n",
       "      <td>0</td>\n",
       "      <td>0</td>\n",
       "      <td>71.76</td>\n",
       "      <td>0</td>\n",
       "      <td>0</td>\n",
       "      <td>8</td>\n",
       "      <td>17</td>\n",
       "    </tr>\n",
       "    <tr>\n",
       "      <th>...</th>\n",
       "      <td>...</td>\n",
       "      <td>...</td>\n",
       "      <td>...</td>\n",
       "      <td>...</td>\n",
       "      <td>...</td>\n",
       "      <td>...</td>\n",
       "      <td>...</td>\n",
       "      <td>...</td>\n",
       "      <td>...</td>\n",
       "      <td>...</td>\n",
       "      <td>...</td>\n",
       "    </tr>\n",
       "    <tr>\n",
       "      <th>62179</th>\n",
       "      <td>23</td>\n",
       "      <td>2017-03-18 18:42:28-07:00</td>\n",
       "      <td>67348</td>\n",
       "      <td>5</td>\n",
       "      <td>1</td>\n",
       "      <td>0</td>\n",
       "      <td>61.07</td>\n",
       "      <td>0</td>\n",
       "      <td>1</td>\n",
       "      <td>3</td>\n",
       "      <td>18</td>\n",
       "    </tr>\n",
       "    <tr>\n",
       "      <th>62180</th>\n",
       "      <td>21</td>\n",
       "      <td>2017-03-18 18:52:35-07:00</td>\n",
       "      <td>67955</td>\n",
       "      <td>5</td>\n",
       "      <td>1</td>\n",
       "      <td>0</td>\n",
       "      <td>61.07</td>\n",
       "      <td>0</td>\n",
       "      <td>1</td>\n",
       "      <td>3</td>\n",
       "      <td>18</td>\n",
       "    </tr>\n",
       "    <tr>\n",
       "      <th>62181</th>\n",
       "      <td>25</td>\n",
       "      <td>2017-03-18 19:02:40-07:00</td>\n",
       "      <td>68560</td>\n",
       "      <td>5</td>\n",
       "      <td>1</td>\n",
       "      <td>0</td>\n",
       "      <td>56.71</td>\n",
       "      <td>0</td>\n",
       "      <td>1</td>\n",
       "      <td>3</td>\n",
       "      <td>19</td>\n",
       "    </tr>\n",
       "    <tr>\n",
       "      <th>62182</th>\n",
       "      <td>18</td>\n",
       "      <td>2017-03-18 19:12:47-07:00</td>\n",
       "      <td>69167</td>\n",
       "      <td>5</td>\n",
       "      <td>1</td>\n",
       "      <td>0</td>\n",
       "      <td>56.71</td>\n",
       "      <td>0</td>\n",
       "      <td>1</td>\n",
       "      <td>3</td>\n",
       "      <td>19</td>\n",
       "    </tr>\n",
       "    <tr>\n",
       "      <th>62183</th>\n",
       "      <td>23</td>\n",
       "      <td>2017-03-18 19:22:51-07:00</td>\n",
       "      <td>69771</td>\n",
       "      <td>5</td>\n",
       "      <td>1</td>\n",
       "      <td>0</td>\n",
       "      <td>56.71</td>\n",
       "      <td>0</td>\n",
       "      <td>1</td>\n",
       "      <td>3</td>\n",
       "      <td>19</td>\n",
       "    </tr>\n",
       "  </tbody>\n",
       "</table>\n",
       "<p>62184 rows × 11 columns</p>\n",
       "</div>"
      ],
      "text/plain": [
       "       number_people                       date  timestamp  day_of_week  \\\n",
       "0                 37  2015-08-14 17:00:11-07:00      61211            4   \n",
       "1                 45  2015-08-14 17:20:14-07:00      62414            4   \n",
       "2                 40  2015-08-14 17:30:15-07:00      63015            4   \n",
       "3                 44  2015-08-14 17:40:16-07:00      63616            4   \n",
       "4                 45  2015-08-14 17:50:17-07:00      64217            4   \n",
       "...              ...                        ...        ...          ...   \n",
       "62179             23  2017-03-18 18:42:28-07:00      67348            5   \n",
       "62180             21  2017-03-18 18:52:35-07:00      67955            5   \n",
       "62181             25  2017-03-18 19:02:40-07:00      68560            5   \n",
       "62182             18  2017-03-18 19:12:47-07:00      69167            5   \n",
       "62183             23  2017-03-18 19:22:51-07:00      69771            5   \n",
       "\n",
       "       is_weekend  is_holiday  temperature  is_start_of_semester  \\\n",
       "0               0           0        71.76                     0   \n",
       "1               0           0        71.76                     0   \n",
       "2               0           0        71.76                     0   \n",
       "3               0           0        71.76                     0   \n",
       "4               0           0        71.76                     0   \n",
       "...           ...         ...          ...                   ...   \n",
       "62179           1           0        61.07                     0   \n",
       "62180           1           0        61.07                     0   \n",
       "62181           1           0        56.71                     0   \n",
       "62182           1           0        56.71                     0   \n",
       "62183           1           0        56.71                     0   \n",
       "\n",
       "       is_during_semester  month  hour  \n",
       "0                       0      8    17  \n",
       "1                       0      8    17  \n",
       "2                       0      8    17  \n",
       "3                       0      8    17  \n",
       "4                       0      8    17  \n",
       "...                   ...    ...   ...  \n",
       "62179                   1      3    18  \n",
       "62180                   1      3    18  \n",
       "62181                   1      3    19  \n",
       "62182                   1      3    19  \n",
       "62183                   1      3    19  \n",
       "\n",
       "[62184 rows x 11 columns]"
      ]
     },
     "execution_count": 1,
     "metadata": {},
     "output_type": "execute_result"
    }
   ],
   "source": [
    "import pandas as pd\n",
    "df=pd.read_csv('gym_data.csv')\n",
    "df"
   ]
  },
  {
   "cell_type": "code",
   "execution_count": 2,
   "id": "2fe17cb7",
   "metadata": {},
   "outputs": [
    {
     "data": {
      "text/html": [
       "<div>\n",
       "<style scoped>\n",
       "    .dataframe tbody tr th:only-of-type {\n",
       "        vertical-align: middle;\n",
       "    }\n",
       "\n",
       "    .dataframe tbody tr th {\n",
       "        vertical-align: top;\n",
       "    }\n",
       "\n",
       "    .dataframe thead th {\n",
       "        text-align: right;\n",
       "    }\n",
       "</style>\n",
       "<table border=\"1\" class=\"dataframe\">\n",
       "  <thead>\n",
       "    <tr style=\"text-align: right;\">\n",
       "      <th></th>\n",
       "      <th>number_people</th>\n",
       "      <th>date</th>\n",
       "      <th>timestamp</th>\n",
       "      <th>day_of_week</th>\n",
       "      <th>is_weekend</th>\n",
       "      <th>is_holiday</th>\n",
       "      <th>temperature</th>\n",
       "      <th>is_start_of_semester</th>\n",
       "      <th>is_during_semester</th>\n",
       "      <th>month</th>\n",
       "      <th>hour</th>\n",
       "    </tr>\n",
       "  </thead>\n",
       "  <tbody>\n",
       "    <tr>\n",
       "      <th>0</th>\n",
       "      <td>37</td>\n",
       "      <td>2015-08-14 17:00:11-07:00</td>\n",
       "      <td>61211</td>\n",
       "      <td>4</td>\n",
       "      <td>0</td>\n",
       "      <td>0</td>\n",
       "      <td>71.76</td>\n",
       "      <td>0</td>\n",
       "      <td>0</td>\n",
       "      <td>8</td>\n",
       "      <td>17</td>\n",
       "    </tr>\n",
       "    <tr>\n",
       "      <th>1</th>\n",
       "      <td>45</td>\n",
       "      <td>2015-08-14 17:20:14-07:00</td>\n",
       "      <td>62414</td>\n",
       "      <td>4</td>\n",
       "      <td>0</td>\n",
       "      <td>0</td>\n",
       "      <td>71.76</td>\n",
       "      <td>0</td>\n",
       "      <td>0</td>\n",
       "      <td>8</td>\n",
       "      <td>17</td>\n",
       "    </tr>\n",
       "    <tr>\n",
       "      <th>2</th>\n",
       "      <td>40</td>\n",
       "      <td>2015-08-14 17:30:15-07:00</td>\n",
       "      <td>63015</td>\n",
       "      <td>4</td>\n",
       "      <td>0</td>\n",
       "      <td>0</td>\n",
       "      <td>71.76</td>\n",
       "      <td>0</td>\n",
       "      <td>0</td>\n",
       "      <td>8</td>\n",
       "      <td>17</td>\n",
       "    </tr>\n",
       "    <tr>\n",
       "      <th>3</th>\n",
       "      <td>44</td>\n",
       "      <td>2015-08-14 17:40:16-07:00</td>\n",
       "      <td>63616</td>\n",
       "      <td>4</td>\n",
       "      <td>0</td>\n",
       "      <td>0</td>\n",
       "      <td>71.76</td>\n",
       "      <td>0</td>\n",
       "      <td>0</td>\n",
       "      <td>8</td>\n",
       "      <td>17</td>\n",
       "    </tr>\n",
       "    <tr>\n",
       "      <th>4</th>\n",
       "      <td>45</td>\n",
       "      <td>2015-08-14 17:50:17-07:00</td>\n",
       "      <td>64217</td>\n",
       "      <td>4</td>\n",
       "      <td>0</td>\n",
       "      <td>0</td>\n",
       "      <td>71.76</td>\n",
       "      <td>0</td>\n",
       "      <td>0</td>\n",
       "      <td>8</td>\n",
       "      <td>17</td>\n",
       "    </tr>\n",
       "  </tbody>\n",
       "</table>\n",
       "</div>"
      ],
      "text/plain": [
       "   number_people                       date  timestamp  day_of_week  \\\n",
       "0             37  2015-08-14 17:00:11-07:00      61211            4   \n",
       "1             45  2015-08-14 17:20:14-07:00      62414            4   \n",
       "2             40  2015-08-14 17:30:15-07:00      63015            4   \n",
       "3             44  2015-08-14 17:40:16-07:00      63616            4   \n",
       "4             45  2015-08-14 17:50:17-07:00      64217            4   \n",
       "\n",
       "   is_weekend  is_holiday  temperature  is_start_of_semester  \\\n",
       "0           0           0        71.76                     0   \n",
       "1           0           0        71.76                     0   \n",
       "2           0           0        71.76                     0   \n",
       "3           0           0        71.76                     0   \n",
       "4           0           0        71.76                     0   \n",
       "\n",
       "   is_during_semester  month  hour  \n",
       "0                   0      8    17  \n",
       "1                   0      8    17  \n",
       "2                   0      8    17  \n",
       "3                   0      8    17  \n",
       "4                   0      8    17  "
      ]
     },
     "execution_count": 2,
     "metadata": {},
     "output_type": "execute_result"
    }
   ],
   "source": [
    "df.head()"
   ]
  },
  {
   "cell_type": "code",
   "execution_count": 3,
   "id": "cd1fa68b",
   "metadata": {},
   "outputs": [
    {
     "data": {
      "text/html": [
       "<div>\n",
       "<style scoped>\n",
       "    .dataframe tbody tr th:only-of-type {\n",
       "        vertical-align: middle;\n",
       "    }\n",
       "\n",
       "    .dataframe tbody tr th {\n",
       "        vertical-align: top;\n",
       "    }\n",
       "\n",
       "    .dataframe thead th {\n",
       "        text-align: right;\n",
       "    }\n",
       "</style>\n",
       "<table border=\"1\" class=\"dataframe\">\n",
       "  <thead>\n",
       "    <tr style=\"text-align: right;\">\n",
       "      <th></th>\n",
       "      <th>number_people</th>\n",
       "      <th>date</th>\n",
       "      <th>timestamp</th>\n",
       "      <th>day_of_week</th>\n",
       "      <th>is_weekend</th>\n",
       "      <th>is_holiday</th>\n",
       "      <th>temperature</th>\n",
       "      <th>is_start_of_semester</th>\n",
       "      <th>is_during_semester</th>\n",
       "      <th>month</th>\n",
       "      <th>hour</th>\n",
       "    </tr>\n",
       "  </thead>\n",
       "  <tbody>\n",
       "    <tr>\n",
       "      <th>62179</th>\n",
       "      <td>23</td>\n",
       "      <td>2017-03-18 18:42:28-07:00</td>\n",
       "      <td>67348</td>\n",
       "      <td>5</td>\n",
       "      <td>1</td>\n",
       "      <td>0</td>\n",
       "      <td>61.07</td>\n",
       "      <td>0</td>\n",
       "      <td>1</td>\n",
       "      <td>3</td>\n",
       "      <td>18</td>\n",
       "    </tr>\n",
       "    <tr>\n",
       "      <th>62180</th>\n",
       "      <td>21</td>\n",
       "      <td>2017-03-18 18:52:35-07:00</td>\n",
       "      <td>67955</td>\n",
       "      <td>5</td>\n",
       "      <td>1</td>\n",
       "      <td>0</td>\n",
       "      <td>61.07</td>\n",
       "      <td>0</td>\n",
       "      <td>1</td>\n",
       "      <td>3</td>\n",
       "      <td>18</td>\n",
       "    </tr>\n",
       "    <tr>\n",
       "      <th>62181</th>\n",
       "      <td>25</td>\n",
       "      <td>2017-03-18 19:02:40-07:00</td>\n",
       "      <td>68560</td>\n",
       "      <td>5</td>\n",
       "      <td>1</td>\n",
       "      <td>0</td>\n",
       "      <td>56.71</td>\n",
       "      <td>0</td>\n",
       "      <td>1</td>\n",
       "      <td>3</td>\n",
       "      <td>19</td>\n",
       "    </tr>\n",
       "    <tr>\n",
       "      <th>62182</th>\n",
       "      <td>18</td>\n",
       "      <td>2017-03-18 19:12:47-07:00</td>\n",
       "      <td>69167</td>\n",
       "      <td>5</td>\n",
       "      <td>1</td>\n",
       "      <td>0</td>\n",
       "      <td>56.71</td>\n",
       "      <td>0</td>\n",
       "      <td>1</td>\n",
       "      <td>3</td>\n",
       "      <td>19</td>\n",
       "    </tr>\n",
       "    <tr>\n",
       "      <th>62183</th>\n",
       "      <td>23</td>\n",
       "      <td>2017-03-18 19:22:51-07:00</td>\n",
       "      <td>69771</td>\n",
       "      <td>5</td>\n",
       "      <td>1</td>\n",
       "      <td>0</td>\n",
       "      <td>56.71</td>\n",
       "      <td>0</td>\n",
       "      <td>1</td>\n",
       "      <td>3</td>\n",
       "      <td>19</td>\n",
       "    </tr>\n",
       "  </tbody>\n",
       "</table>\n",
       "</div>"
      ],
      "text/plain": [
       "       number_people                       date  timestamp  day_of_week  \\\n",
       "62179             23  2017-03-18 18:42:28-07:00      67348            5   \n",
       "62180             21  2017-03-18 18:52:35-07:00      67955            5   \n",
       "62181             25  2017-03-18 19:02:40-07:00      68560            5   \n",
       "62182             18  2017-03-18 19:12:47-07:00      69167            5   \n",
       "62183             23  2017-03-18 19:22:51-07:00      69771            5   \n",
       "\n",
       "       is_weekend  is_holiday  temperature  is_start_of_semester  \\\n",
       "62179           1           0        61.07                     0   \n",
       "62180           1           0        61.07                     0   \n",
       "62181           1           0        56.71                     0   \n",
       "62182           1           0        56.71                     0   \n",
       "62183           1           0        56.71                     0   \n",
       "\n",
       "       is_during_semester  month  hour  \n",
       "62179                   1      3    18  \n",
       "62180                   1      3    18  \n",
       "62181                   1      3    19  \n",
       "62182                   1      3    19  \n",
       "62183                   1      3    19  "
      ]
     },
     "execution_count": 3,
     "metadata": {},
     "output_type": "execute_result"
    }
   ],
   "source": [
    "df.tail()"
   ]
  },
  {
   "cell_type": "code",
   "execution_count": 4,
   "id": "38188420",
   "metadata": {},
   "outputs": [
    {
     "data": {
      "text/html": [
       "<div>\n",
       "<style scoped>\n",
       "    .dataframe tbody tr th:only-of-type {\n",
       "        vertical-align: middle;\n",
       "    }\n",
       "\n",
       "    .dataframe tbody tr th {\n",
       "        vertical-align: top;\n",
       "    }\n",
       "\n",
       "    .dataframe thead th {\n",
       "        text-align: right;\n",
       "    }\n",
       "</style>\n",
       "<table border=\"1\" class=\"dataframe\">\n",
       "  <thead>\n",
       "    <tr style=\"text-align: right;\">\n",
       "      <th></th>\n",
       "      <th>age</th>\n",
       "      <th>sex</th>\n",
       "      <th>bmi</th>\n",
       "      <th>children</th>\n",
       "      <th>smoker</th>\n",
       "      <th>region</th>\n",
       "      <th>charges</th>\n",
       "    </tr>\n",
       "  </thead>\n",
       "  <tbody>\n",
       "    <tr>\n",
       "      <th>0</th>\n",
       "      <td>19</td>\n",
       "      <td>female</td>\n",
       "      <td>27.900</td>\n",
       "      <td>0</td>\n",
       "      <td>yes</td>\n",
       "      <td>southwest</td>\n",
       "      <td>16884.92400</td>\n",
       "    </tr>\n",
       "    <tr>\n",
       "      <th>1</th>\n",
       "      <td>18</td>\n",
       "      <td>male</td>\n",
       "      <td>33.770</td>\n",
       "      <td>1</td>\n",
       "      <td>no</td>\n",
       "      <td>southeast</td>\n",
       "      <td>1725.55230</td>\n",
       "    </tr>\n",
       "    <tr>\n",
       "      <th>2</th>\n",
       "      <td>28</td>\n",
       "      <td>male</td>\n",
       "      <td>33.000</td>\n",
       "      <td>3</td>\n",
       "      <td>no</td>\n",
       "      <td>southeast</td>\n",
       "      <td>4449.46200</td>\n",
       "    </tr>\n",
       "    <tr>\n",
       "      <th>3</th>\n",
       "      <td>33</td>\n",
       "      <td>male</td>\n",
       "      <td>22.705</td>\n",
       "      <td>0</td>\n",
       "      <td>no</td>\n",
       "      <td>northwest</td>\n",
       "      <td>21984.47061</td>\n",
       "    </tr>\n",
       "    <tr>\n",
       "      <th>4</th>\n",
       "      <td>32</td>\n",
       "      <td>male</td>\n",
       "      <td>28.880</td>\n",
       "      <td>0</td>\n",
       "      <td>no</td>\n",
       "      <td>northwest</td>\n",
       "      <td>3866.85520</td>\n",
       "    </tr>\n",
       "    <tr>\n",
       "      <th>...</th>\n",
       "      <td>...</td>\n",
       "      <td>...</td>\n",
       "      <td>...</td>\n",
       "      <td>...</td>\n",
       "      <td>...</td>\n",
       "      <td>...</td>\n",
       "      <td>...</td>\n",
       "    </tr>\n",
       "    <tr>\n",
       "      <th>1333</th>\n",
       "      <td>50</td>\n",
       "      <td>male</td>\n",
       "      <td>30.970</td>\n",
       "      <td>3</td>\n",
       "      <td>no</td>\n",
       "      <td>northwest</td>\n",
       "      <td>10600.54830</td>\n",
       "    </tr>\n",
       "    <tr>\n",
       "      <th>1334</th>\n",
       "      <td>18</td>\n",
       "      <td>female</td>\n",
       "      <td>31.920</td>\n",
       "      <td>0</td>\n",
       "      <td>no</td>\n",
       "      <td>northeast</td>\n",
       "      <td>2205.98080</td>\n",
       "    </tr>\n",
       "    <tr>\n",
       "      <th>1335</th>\n",
       "      <td>18</td>\n",
       "      <td>female</td>\n",
       "      <td>36.850</td>\n",
       "      <td>0</td>\n",
       "      <td>no</td>\n",
       "      <td>southeast</td>\n",
       "      <td>1629.83350</td>\n",
       "    </tr>\n",
       "    <tr>\n",
       "      <th>1336</th>\n",
       "      <td>21</td>\n",
       "      <td>female</td>\n",
       "      <td>25.800</td>\n",
       "      <td>0</td>\n",
       "      <td>no</td>\n",
       "      <td>southwest</td>\n",
       "      <td>2007.94500</td>\n",
       "    </tr>\n",
       "    <tr>\n",
       "      <th>1337</th>\n",
       "      <td>61</td>\n",
       "      <td>female</td>\n",
       "      <td>29.070</td>\n",
       "      <td>0</td>\n",
       "      <td>yes</td>\n",
       "      <td>northwest</td>\n",
       "      <td>29141.36030</td>\n",
       "    </tr>\n",
       "  </tbody>\n",
       "</table>\n",
       "<p>1338 rows × 7 columns</p>\n",
       "</div>"
      ],
      "text/plain": [
       "      age     sex     bmi  children smoker     region      charges\n",
       "0      19  female  27.900         0    yes  southwest  16884.92400\n",
       "1      18    male  33.770         1     no  southeast   1725.55230\n",
       "2      28    male  33.000         3     no  southeast   4449.46200\n",
       "3      33    male  22.705         0     no  northwest  21984.47061\n",
       "4      32    male  28.880         0     no  northwest   3866.85520\n",
       "...   ...     ...     ...       ...    ...        ...          ...\n",
       "1333   50    male  30.970         3     no  northwest  10600.54830\n",
       "1334   18  female  31.920         0     no  northeast   2205.98080\n",
       "1335   18  female  36.850         0     no  southeast   1629.83350\n",
       "1336   21  female  25.800         0     no  southwest   2007.94500\n",
       "1337   61  female  29.070         0    yes  northwest  29141.36030\n",
       "\n",
       "[1338 rows x 7 columns]"
      ]
     },
     "execution_count": 4,
     "metadata": {},
     "output_type": "execute_result"
    }
   ],
   "source": [
    "import pandas as pd\n",
    "df=pd.read_csv(\"insurance.csv\")\n",
    "df"
   ]
  },
  {
   "cell_type": "code",
   "execution_count": 6,
   "id": "0a0e3056",
   "metadata": {},
   "outputs": [
    {
     "name": "stdout",
     "output_type": "stream",
     "text": [
      "   Id              Name Marks\n",
      "0  S1  Danniella Fenton   200\n",
      "1  S2      Ryder Storey   210\n",
      "2  S3      Bryce Jensen   190\n",
      "3  S4         Ed Bernal   199\n",
      "4  S5      Kwame Morin    195\n",
      "0  S4  Scarlette Fisher   201\n",
      "1  S5  Carla Williamson   200\n",
      "2  S6       Dante Morse   198\n",
      "3  S7    Kaiser William   219\n",
      "4  S8   Madeeha Preston   201\n"
     ]
    }
   ],
   "source": [
    "import pandas as pd\n",
    "df1=pd.DataFrame({'Id':['S1','S2','S3','S4','S5'],\n",
    "                 'Name':['Danniella Fenton','Ryder Storey','Bryce Jensen','Ed Bernal','Kwame Morin '],\n",
    "                 'Marks':['200','210','190','199','195']})\n",
    "df2=pd.DataFrame({'Id':['S4','S5','S6','S7','S8'],\n",
    "                 'Name':['Scarlette Fisher','Carla Williamson','Dante Morse','Kaiser William','Madeeha Preston'],\n",
    "                 'Marks':[201,200,198,219,201]})\n",
    "frames=[df1,df2]\n",
    "result=pd.concat(frames)\n",
    "print(result)\n",
    "                          "
   ]
  },
  {
   "cell_type": "code",
   "execution_count": 16,
   "id": "b2ba32ae",
   "metadata": {},
   "outputs": [
    {
     "name": "stdout",
     "output_type": "stream",
     "text": [
      "ORGINAL DATAFRAME\n",
      "   Id              Name Marks\n",
      "0  S1  Danniella Fenton   200\n",
      "1  S2      Ryder Storey   210\n",
      "2  S3      Bryce Jensen   190\n",
      "3  S4         Ed Bernal   199\n",
      "4  S5      Kwame Morin    195\n",
      "_____________________________________\n",
      "   Id              Name  Marks\n",
      "0  S4  Scarlette Fisher    201\n",
      "1  S5  Carla Williamson    200\n",
      "2  S6       Dante Morse    198\n",
      "3  S7    Kaiser William    219\n",
      "4  S8   Madeeha Preston    201\n",
      "______________________________________\n",
      "JOINED DATA\n",
      "   Id              Name Marks\n",
      "0  S1  Danniella Fenton   200\n",
      "1  S2      Ryder Storey   210\n",
      "2  S3      Bryce Jensen   190\n",
      "3  S4         Ed Bernal   199\n",
      "4  S5      Kwame Morin    195\n",
      "0  S4  Scarlette Fisher   201\n",
      "1  S5  Carla Williamson   200\n",
      "2  S6       Dante Morse   198\n",
      "3  S7    Kaiser William   219\n",
      "4  S8   Madeeha Preston   201\n",
      "_______________________________________\n",
      "MERGED DATA\n",
      "   Id              Name Marks  exam_id\n",
      "0  S1  Danniella Fenton   200       23\n",
      "1  S2      Ryder Storey   210       25\n",
      "2  S3      Bryce Jensen   190       26\n",
      "3  S4         Ed Bernal   199       67\n",
      "4  S4  Scarlette Fisher   201       67\n",
      "5  S5      Kwame Morin    195       12\n",
      "6  S5  Carla Williamson   200       12\n",
      "7  S7    Kaiser William   219       15\n",
      "8  S8   Madeeha Preston   201       33\n"
     ]
    }
   ],
   "source": [
    "import pandas as pd\n",
    "df1=pd.DataFrame({'Id':['S1','S2','S3','S4','S5'],\n",
    "                 'Name':['Danniella Fenton','Ryder Storey','Bryce Jensen','Ed Bernal','Kwame Morin '],\n",
    "                 'Marks':['200','210','190','199','195']})\n",
    "df2=pd.DataFrame({'Id':['S4','S5','S6','S7','S8'],\n",
    "                 'Name':['Scarlette Fisher','Carla Williamson','Dante Morse','Kaiser William','Madeeha Preston'],\n",
    "                 'Marks':[201,200,198,219,201]})\n",
    "exam_data=pd.DataFrame({'Id':['S1','S2','S3','S4','S5','S7','S8','S9','S10','S11','S12','S13'],\n",
    "                       'exam_id':[23,25,26,67,12,15,33,44,15,20,23,67]})\n",
    "print(\"ORGINAL DATAFRAME\")\n",
    "print(df1)\n",
    "print(\"_____________________________________\")\n",
    "print(df2)\n",
    "print(\"______________________________________\")\n",
    "print(\"JOINED DATA\")\n",
    "result=pd.concat([df1,df2])\n",
    "print(result)\n",
    "print(\"_______________________________________\")\n",
    "print(\"MERGED DATA\")\n",
    "merged_data=pd.merge(result,exam_data,on='Id')\n",
    "print(merged_data)"
   ]
  },
  {
   "cell_type": "code",
   "execution_count": 18,
   "id": "fa403429",
   "metadata": {},
   "outputs": [
    {
     "name": "stdout",
     "output_type": "stream",
     "text": [
      "Orginal DataFrame\n",
      "  SchoolCode Class Name  Age  Height  Weight  Address Index\n",
      "0       S001     V    A   12     173      32  Street1    S1\n",
      "1       S002     V    B   12     192      36  Street2    S2\n",
      "2       S003    VI    C   13     187      28  Street3    S3\n",
      "3       S004   VII    D   14     167      39  Street1    S4\n",
      "             Age        \n",
      "            mean min max\n",
      "SchoolCode              \n",
      "S001        12.0  12  12\n",
      "S002        12.0  12  12\n",
      "S003        13.0  13  13\n",
      "S004        14.0  14  14\n"
     ]
    }
   ],
   "source": [
    "import pandas as pd\n",
    "pd.set_option('display.max_rows',None)\n",
    "student_data=pd.DataFrame({'SchoolCode':['S001','S002','S003','S004'],\n",
    "                          'Class':['V','V','VI','VII'],\n",
    "                          'Name':['A','B','C','D'],\n",
    "                          'Age':[12,12,13,14],\n",
    "                          'Height':[173,192,187,167],\n",
    "                          'Weight':[32,36,28,39],\n",
    "                          'Address':['Street1','Street2','Street3','Street1'],\n",
    "                          'Index':['S1','S2','S3','S4']})\n",
    "print(\"Orginal DataFrame\")\n",
    "print(student_data)\n",
    "#group by school code and find the mean,min and max of age of the dataframe\n",
    "#function used-groupby,agg(aggregate)\n",
    "grouped_single=student_data.groupby('SchoolCode').agg({'Age':['mean','min','max']})\n",
    "print(grouped_single)"
   ]
  },
  {
   "cell_type": "code",
   "execution_count": null,
   "id": "2e614e83",
   "metadata": {},
   "outputs": [],
   "source": [
    "import datetime as DT\n",
    "from matplotlib import pyplot as plt\n",
    "from matplotlib.dates import date2num\n",
    "data=[(DT.datetime.strptime('2016-10-03',\"%Y-%m-%d\"),772.55998),\n",
    "     (DT.datetime.strptime('2016-10-04',\"%Y-%m-%d\"),776.42998),\n",
    "     (DT.datetime.strptime('2016-10-05',\"%Y-%m-%d\"),776.46998),\n",
    "     (DT.datetime.strptime('2016-10-06',\"%Y-%m-%d\"),776.85998),\n",
    "     (DT.datetime.strptime('2016-10-07',\"%Y-%m-%d\"),772.08001)]\n",
    "x=[date2num(date)for(date,value)in data]\n",
    "fig=plt.figure()\n",
    "graph=fig.add_subplot(111)\n",
    "graph.plot(x,y,'r-o')\n",
    "graph.set_xticks(x)\n",
    "graph.set_xticklabels([date.strftime(\"%Y-%m-%d\")for(date,value)in data])\n",
    "plt.xlabel('Date')\n",
    "plt.ylabel('Closing Value')\n",
    "plt.title(\"Closing stock value of Alphabet\")"
   ]
  },
  {
   "cell_type": "markdown",
   "id": "75b4f242",
   "metadata": {},
   "source": [
    "##### Create a cricketer dataset using a dictionary of lists, and create a new attribute ‘Experience Category’ using ‘Age’ as the binning factor."
   ]
  },
  {
   "cell_type": "code",
   "execution_count": 2,
   "id": "12ca1fb2",
   "metadata": {},
   "outputs": [
    {
     "data": {
      "text/html": [
       "<div>\n",
       "<style scoped>\n",
       "    .dataframe tbody tr th:only-of-type {\n",
       "        vertical-align: middle;\n",
       "    }\n",
       "\n",
       "    .dataframe tbody tr th {\n",
       "        vertical-align: top;\n",
       "    }\n",
       "\n",
       "    .dataframe thead th {\n",
       "        text-align: right;\n",
       "    }\n",
       "</style>\n",
       "<table border=\"1\" class=\"dataframe\">\n",
       "  <thead>\n",
       "    <tr style=\"text-align: right;\">\n",
       "      <th></th>\n",
       "      <th>Name</th>\n",
       "      <th>Age</th>\n",
       "      <th>Grade</th>\n",
       "      <th>Role</th>\n",
       "      <th>Rating</th>\n",
       "      <th>Country</th>\n",
       "    </tr>\n",
       "  </thead>\n",
       "  <tbody>\n",
       "    <tr>\n",
       "      <th>0</th>\n",
       "      <td>Virat Kohli</td>\n",
       "      <td>31</td>\n",
       "      <td>Best</td>\n",
       "      <td>Batsmen</td>\n",
       "      <td>871</td>\n",
       "      <td>IND</td>\n",
       "    </tr>\n",
       "    <tr>\n",
       "      <th>1</th>\n",
       "      <td>Rohit Sharma</td>\n",
       "      <td>33</td>\n",
       "      <td>Better</td>\n",
       "      <td>Batsmen</td>\n",
       "      <td>869</td>\n",
       "      <td>IND</td>\n",
       "    </tr>\n",
       "    <tr>\n",
       "      <th>2</th>\n",
       "      <td>Babar Asam</td>\n",
       "      <td>25</td>\n",
       "      <td>Good</td>\n",
       "      <td>Batsmen</td>\n",
       "      <td>829</td>\n",
       "      <td>PAK</td>\n",
       "    </tr>\n",
       "    <tr>\n",
       "      <th>3</th>\n",
       "      <td>Trent Boult</td>\n",
       "      <td>31</td>\n",
       "      <td>Best</td>\n",
       "      <td>Bowler</td>\n",
       "      <td>722</td>\n",
       "      <td>NZ</td>\n",
       "    </tr>\n",
       "    <tr>\n",
       "      <th>4</th>\n",
       "      <td>Jasprit Bumrah</td>\n",
       "      <td>26</td>\n",
       "      <td>Better</td>\n",
       "      <td>Bowler</td>\n",
       "      <td>719</td>\n",
       "      <td>IND</td>\n",
       "    </tr>\n",
       "    <tr>\n",
       "      <th>5</th>\n",
       "      <td>Mujeeb Ur Rahman</td>\n",
       "      <td>19</td>\n",
       "      <td>Good</td>\n",
       "      <td>Bowler</td>\n",
       "      <td>701</td>\n",
       "      <td>AFG</td>\n",
       "    </tr>\n",
       "    <tr>\n",
       "      <th>6</th>\n",
       "      <td>Muhammed Nabi</td>\n",
       "      <td>35</td>\n",
       "      <td>Best</td>\n",
       "      <td>All Rounder</td>\n",
       "      <td>765</td>\n",
       "      <td>AFG</td>\n",
       "    </tr>\n",
       "    <tr>\n",
       "      <th>7</th>\n",
       "      <td>Ben Strokes</td>\n",
       "      <td>29</td>\n",
       "      <td>Best</td>\n",
       "      <td>All Rounder</td>\n",
       "      <td>858</td>\n",
       "      <td>ENG</td>\n",
       "    </tr>\n",
       "  </tbody>\n",
       "</table>\n",
       "</div>"
      ],
      "text/plain": [
       "               Name  Age   Grade         Role  Rating Country\n",
       "0       Virat Kohli   31    Best      Batsmen     871     IND\n",
       "1      Rohit Sharma   33  Better      Batsmen     869     IND\n",
       "2        Babar Asam   25    Good      Batsmen     829     PAK\n",
       "3       Trent Boult   31    Best       Bowler     722      NZ\n",
       "4    Jasprit Bumrah   26  Better       Bowler     719     IND\n",
       "5  Mujeeb Ur Rahman   19    Good       Bowler     701     AFG\n",
       "6     Muhammed Nabi   35    Best  All Rounder     765     AFG\n",
       "7       Ben Strokes   29    Best  All Rounder     858     ENG"
      ]
     },
     "execution_count": 2,
     "metadata": {},
     "output_type": "execute_result"
    }
   ],
   "source": [
    "import pandas as pd\n",
    "Cricketers = {'Name': ['Virat Kohli', 'Rohit Sharma', 'Babar Asam', 'Trent Boult', 'Jasprit Bumrah', 'Mujeeb Ur Rahman', 'Muhammed Nabi', 'Ben Strokes'],\n",
    "'Age' : [31, 33, 25, 31, 26, 19, 35, 29],\n",
    "'Grade' : ['Best', 'Better', 'Good', 'Best', 'Better', 'Good', 'Best', 'Best'],\n",
    "'Role' : ['Batsmen', 'Batsmen', 'Batsmen', 'Bowler', 'Bowler', 'Bowler','All Rounder', 'All Rounder'],\n",
    "'Rating' : [871, 869, 829, 722, 719, 701, 765, 858],\n",
    "'Country' : ['IND', 'IND', 'PAK', 'NZ', 'IND', 'AFG', 'AFG', 'ENG']\n",
    "}\n",
    "df_cricketers=pd.DataFrame(Cricketers)\n",
    "df_cricketers\n"
   ]
  },
  {
   "cell_type": "code",
   "execution_count": 3,
   "id": "54adcd07",
   "metadata": {},
   "outputs": [
    {
     "data": {
      "text/html": [
       "<div>\n",
       "<style scoped>\n",
       "    .dataframe tbody tr th:only-of-type {\n",
       "        vertical-align: middle;\n",
       "    }\n",
       "\n",
       "    .dataframe tbody tr th {\n",
       "        vertical-align: top;\n",
       "    }\n",
       "\n",
       "    .dataframe thead th {\n",
       "        text-align: right;\n",
       "    }\n",
       "</style>\n",
       "<table border=\"1\" class=\"dataframe\">\n",
       "  <thead>\n",
       "    <tr style=\"text-align: right;\">\n",
       "      <th></th>\n",
       "      <th>Name</th>\n",
       "      <th>Age</th>\n",
       "      <th>Grade</th>\n",
       "      <th>Role</th>\n",
       "      <th>Rating</th>\n",
       "      <th>Country</th>\n",
       "    </tr>\n",
       "  </thead>\n",
       "  <tbody>\n",
       "    <tr>\n",
       "      <th>0</th>\n",
       "      <td>Virat Kohli</td>\n",
       "      <td>31</td>\n",
       "      <td>Best</td>\n",
       "      <td>Batsmen</td>\n",
       "      <td>871</td>\n",
       "      <td>IND</td>\n",
       "    </tr>\n",
       "    <tr>\n",
       "      <th>1</th>\n",
       "      <td>Rohit Sharma</td>\n",
       "      <td>33</td>\n",
       "      <td>Better</td>\n",
       "      <td>Batsmen</td>\n",
       "      <td>869</td>\n",
       "      <td>IND</td>\n",
       "    </tr>\n",
       "    <tr>\n",
       "      <th>2</th>\n",
       "      <td>Babar Asam</td>\n",
       "      <td>25</td>\n",
       "      <td>Good</td>\n",
       "      <td>Batsmen</td>\n",
       "      <td>829</td>\n",
       "      <td>PAK</td>\n",
       "    </tr>\n",
       "    <tr>\n",
       "      <th>3</th>\n",
       "      <td>Trent Boult</td>\n",
       "      <td>31</td>\n",
       "      <td>Best</td>\n",
       "      <td>Bowler</td>\n",
       "      <td>722</td>\n",
       "      <td>NZ</td>\n",
       "    </tr>\n",
       "    <tr>\n",
       "      <th>4</th>\n",
       "      <td>Jasprit Bumrah</td>\n",
       "      <td>26</td>\n",
       "      <td>Better</td>\n",
       "      <td>Bowler</td>\n",
       "      <td>719</td>\n",
       "      <td>IND</td>\n",
       "    </tr>\n",
       "  </tbody>\n",
       "</table>\n",
       "</div>"
      ],
      "text/plain": [
       "             Name  Age   Grade     Role  Rating Country\n",
       "0     Virat Kohli   31    Best  Batsmen     871     IND\n",
       "1    Rohit Sharma   33  Better  Batsmen     869     IND\n",
       "2      Babar Asam   25    Good  Batsmen     829     PAK\n",
       "3     Trent Boult   31    Best   Bowler     722      NZ\n",
       "4  Jasprit Bumrah   26  Better   Bowler     719     IND"
      ]
     },
     "execution_count": 3,
     "metadata": {},
     "output_type": "execute_result"
    }
   ],
   "source": [
    "df_cricketers.head()"
   ]
  },
  {
   "cell_type": "code",
   "execution_count": 14,
   "id": "3281594b",
   "metadata": {},
   "outputs": [
    {
     "data": {
      "text/html": [
       "<div>\n",
       "<style scoped>\n",
       "    .dataframe tbody tr th:only-of-type {\n",
       "        vertical-align: middle;\n",
       "    }\n",
       "\n",
       "    .dataframe tbody tr th {\n",
       "        vertical-align: top;\n",
       "    }\n",
       "\n",
       "    .dataframe thead th {\n",
       "        text-align: right;\n",
       "    }\n",
       "</style>\n",
       "<table border=\"1\" class=\"dataframe\">\n",
       "  <thead>\n",
       "    <tr style=\"text-align: right;\">\n",
       "      <th></th>\n",
       "      <th>Name</th>\n",
       "      <th>Age</th>\n",
       "      <th>Grade</th>\n",
       "      <th>Role</th>\n",
       "      <th>Rating</th>\n",
       "      <th>Country</th>\n",
       "      <th>Experience Category</th>\n",
       "    </tr>\n",
       "  </thead>\n",
       "  <tbody>\n",
       "    <tr>\n",
       "      <th>0</th>\n",
       "      <td>Virat Kohli</td>\n",
       "      <td>31</td>\n",
       "      <td>Best</td>\n",
       "      <td>Batsmen</td>\n",
       "      <td>871</td>\n",
       "      <td>IND</td>\n",
       "      <td>SuperSenior</td>\n",
       "    </tr>\n",
       "    <tr>\n",
       "      <th>1</th>\n",
       "      <td>Rohit Sharma</td>\n",
       "      <td>33</td>\n",
       "      <td>Better</td>\n",
       "      <td>Batsmen</td>\n",
       "      <td>869</td>\n",
       "      <td>IND</td>\n",
       "      <td>SuperSenior</td>\n",
       "    </tr>\n",
       "    <tr>\n",
       "      <th>2</th>\n",
       "      <td>Babar Asam</td>\n",
       "      <td>25</td>\n",
       "      <td>Good</td>\n",
       "      <td>Batsmen</td>\n",
       "      <td>829</td>\n",
       "      <td>PAK</td>\n",
       "      <td>Senior</td>\n",
       "    </tr>\n",
       "    <tr>\n",
       "      <th>3</th>\n",
       "      <td>Trent Boult</td>\n",
       "      <td>31</td>\n",
       "      <td>Best</td>\n",
       "      <td>Bowler</td>\n",
       "      <td>722</td>\n",
       "      <td>NZ</td>\n",
       "      <td>SuperSenior</td>\n",
       "    </tr>\n",
       "    <tr>\n",
       "      <th>4</th>\n",
       "      <td>Jasprit Bumrah</td>\n",
       "      <td>26</td>\n",
       "      <td>Better</td>\n",
       "      <td>Bowler</td>\n",
       "      <td>719</td>\n",
       "      <td>IND</td>\n",
       "      <td>Senior</td>\n",
       "    </tr>\n",
       "    <tr>\n",
       "      <th>5</th>\n",
       "      <td>Mujeeb Ur Rahman</td>\n",
       "      <td>19</td>\n",
       "      <td>Good</td>\n",
       "      <td>Bowler</td>\n",
       "      <td>701</td>\n",
       "      <td>AFG</td>\n",
       "      <td>Young</td>\n",
       "    </tr>\n",
       "    <tr>\n",
       "      <th>6</th>\n",
       "      <td>Muhammed Nabi</td>\n",
       "      <td>35</td>\n",
       "      <td>Best</td>\n",
       "      <td>All Rounder</td>\n",
       "      <td>765</td>\n",
       "      <td>AFG</td>\n",
       "      <td>SuperSenior</td>\n",
       "    </tr>\n",
       "    <tr>\n",
       "      <th>7</th>\n",
       "      <td>Ben Strokes</td>\n",
       "      <td>29</td>\n",
       "      <td>Best</td>\n",
       "      <td>All Rounder</td>\n",
       "      <td>858</td>\n",
       "      <td>ENG</td>\n",
       "      <td>Senior</td>\n",
       "    </tr>\n",
       "  </tbody>\n",
       "</table>\n",
       "</div>"
      ],
      "text/plain": [
       "               Name  Age   Grade         Role  Rating Country  \\\n",
       "0       Virat Kohli   31    Best      Batsmen     871     IND   \n",
       "1      Rohit Sharma   33  Better      Batsmen     869     IND   \n",
       "2        Babar Asam   25    Good      Batsmen     829     PAK   \n",
       "3       Trent Boult   31    Best       Bowler     722      NZ   \n",
       "4    Jasprit Bumrah   26  Better       Bowler     719     IND   \n",
       "5  Mujeeb Ur Rahman   19    Good       Bowler     701     AFG   \n",
       "6     Muhammed Nabi   35    Best  All Rounder     765     AFG   \n",
       "7       Ben Strokes   29    Best  All Rounder     858     ENG   \n",
       "\n",
       "  Experience Category  \n",
       "0         SuperSenior  \n",
       "1         SuperSenior  \n",
       "2              Senior  \n",
       "3         SuperSenior  \n",
       "4              Senior  \n",
       "5               Young  \n",
       "6         SuperSenior  \n",
       "7              Senior  "
      ]
     },
     "execution_count": 14,
     "metadata": {},
     "output_type": "execute_result"
    }
   ],
   "source": [
    "bins=[10,20,30,40]\n",
    "group_names=['Young','Senior','SuperSenior']\n",
    "df_cricketers['Experience Category'] = pd.cut(df_cricketers['Age'], bins, labels=group_names)\n",
    "df_cricketers"
   ]
  },
  {
   "cell_type": "code",
   "execution_count": 21,
   "id": "8cca6b06",
   "metadata": {},
   "outputs": [
    {
     "data": {
      "image/png": "[encoded data removed]",
      "text/plain": [
       "<Figure size 640x480 with 1 Axes>"
      ]
     },
     "metadata": {},
     "output_type": "display_data"
    }
   ],
   "source": [
    "import matplotlib.pyplot as plt \n",
    "import numpy as np\n",
    "car_age = np.array([5,7,8,7,2,17,2,9,4,11,12,9,6])\n",
    "car_speed = np.array([99,86,87,88,111,86,103,87,94,78,77,85,86])\n",
    "dataset = pd.DataFrame({ \"Car Age\" : car_age,\"Car Speed\" : car_speed})\n",
    "plt.scatter(dataset['Car Age'],dataset['Car Speed'])\n",
    "plt.title('Car Age Vs Car Speed')\n",
    "plt.xlabel('Car Age')\n",
    "plt.ylabel('Car Speed')\n",
    "plt.show()\n"
   ]
  },
  {
   "cell_type": "code",
   "execution_count": 4,
   "id": "fe0b3ac3",
   "metadata": {},
   "outputs": [
    {
     "name": "stderr",
     "output_type": "stream",
     "text": [
      "C:\\Users\\Hp\\anaconda3\\lib\\site-packages\\sklearn\\base.py:420: UserWarning: X does not have valid feature names, but LinearRegression was fitted with feature names\n",
      "  warnings.warn(\n"
     ]
    },
    {
     "data": {
      "text/plain": [
       "array([[107.2087328]])"
      ]
     },
     "execution_count": 4,
     "metadata": {},
     "output_type": "execute_result"
    }
   ],
   "source": [
    "import pandas as pd\n",
    "from sklearn import linear_model\n",
    "df=pd.read_csv(\"cars.csv\")\n",
    "X=df[['Weight','Volume']]\n",
    "y=df[['CO2']]\n",
    "reg=linear_model.LinearRegression()\n",
    "reg.fit(X,y)#train the dataset\n",
    "pred_CO2=reg.predict([[2300,1300]])\n",
    "pred_CO2"
   ]
  },
  {
   "cell_type": "code",
   "execution_count": 3,
   "id": "8cb4113d",
   "metadata": {},
   "outputs": [
    {
     "name": "stdout",
     "output_type": "stream",
     "text": [
      "[[0.00755095 0.00780526]]\n"
     ]
    }
   ],
   "source": [
    "import pandas as pd\n",
    "from sklearn import linear_model\n",
    "df=pd.read_csv(\"cars.csv\")\n",
    "X=df[['Weight','Volume']]\n",
    "y=df[['CO2']]\n",
    "reg=linear_model.LinearRegression()\n",
    "reg.fit(X,y)\n",
    "print(reg.coef_)#coeffecient calculation in the dataset"
   ]
  },
  {
   "cell_type": "markdown",
   "id": "592c5846",
   "metadata": {},
   "source": [
    "#### insurance dataset"
   ]
  },
  {
   "cell_type": "code",
   "execution_count": 10,
   "id": "5199b0b2",
   "metadata": {},
   "outputs": [
    {
     "name": "stderr",
     "output_type": "stream",
     "text": [
      "C:\\Users\\Hp\\AppData\\Local\\Temp\\ipykernel_6228\\1357641029.py:12: MatplotlibDeprecationWarning: The seaborn styles shipped by Matplotlib are deprecated since 3.6, as they no longer correspond to the styles shipped by seaborn. However, they will remain available as 'seaborn-v0_8-<style>'. Alternatively, directly use the seaborn API instead.\n",
      "  plt.style.use('seaborn-whitegrid')\n"
     ]
    },
    {
     "name": "stdout",
     "output_type": "stream",
     "text": [
      "   age     sex     bmi  children smoker     region      charges\n",
      "0   19  female  27.900         0    yes  southwest  16884.92400\n",
      "1   18    male  33.770         1     no  southeast   1725.55230\n",
      "2   28    male  33.000         3     no  southeast   4449.46200\n",
      "3   33    male  22.705         0     no  northwest  21984.47061\n",
      "4   32    male  28.880         0     no  northwest   3866.85520\n"
     ]
    },
    {
     "data": {
      "image/png": "[encoded data removed]",
      "text/plain": [
       "<Figure size 800x400 with 1 Axes>"
      ]
     },
     "metadata": {},
     "output_type": "display_data"
    },
    {
     "name": "stdout",
     "output_type": "stream",
     "text": [
      "Visualizing the correlation among variables using a heatmap.\n",
      "Accuracy :  0.7880597014925373\n"
     ]
    },
    {
     "name": "stderr",
     "output_type": "stream",
     "text": [
      "C:\\Users\\Hp\\AppData\\Local\\Temp\\ipykernel_6228\\1357641029.py:24: FutureWarning: The default value of numeric_only in DataFrame.corr is deprecated. In a future version, it will default to False. Select only valid columns or specify the value of numeric_only to silence this warning.\n",
      "  corr = df.corr()\n"
     ]
    },
    {
     "data": {
      "image/png": "[encoded data removed]",
      "text/plain": [
       "<Figure size 800x500 with 2 Axes>"
      ]
     },
     "metadata": {},
     "output_type": "display_data"
    }
   ],
   "source": [
    "import pandas as pd\n",
    "import numpy as np\n",
    "import matplotlib.pyplot as plt\n",
    "import seaborn as sns\n",
    "from sklearn.metrics import accuracy_score\n",
    "from sklearn.model_selection import train_test_split\n",
    "from sklearn.preprocessing import StandardScaler\n",
    "from sklearn.linear_model import LogisticRegression\n",
    "plt.rcParams['figure.figsize'] = (8, 5)\n",
    "plt.rcParams['font.size'] =14\n",
    "plt.rcParams['font.weight'] ='bold'\n",
    "plt.style.use('seaborn-whitegrid')\n",
    "df=pd.read_csv(\"insurance.csv\")\n",
    "x=df.iloc[:,[2,3]].values\n",
    "y=df.iloc[:,4].values\n",
    "xtrain,xtest,ytrain,ytest=train_test_split(x,y,test_size=0.25,random_state=0)\n",
    "print(df.head())\n",
    "sns.lmplot(x='bmi',y='charges',data=df,aspect=2,height=4)\n",
    "plt.xlabel('Boby Mass Index')\n",
    "plt.ylabel('Insurance Charges')\n",
    "plt.title('Charge Vs BMI')\n",
    "plt.show()\n",
    "print('Visualizing the correlation among variables using a heatmap.')\n",
    "corr = df.corr()\n",
    "sns.heatmap(corr, cmap = 'Wistia', annot= True);\n",
    "#Accuracy\n",
    "sc_x = StandardScaler()\n",
    "xtrain = sc_x.fit_transform(xtrain)\n",
    "xtest = sc_x.transform(xtest)\n",
    "classifier = LogisticRegression(random_state = 0)\n",
    "classifier.fit(xtrain, ytrain)\n",
    "y_pred = classifier.predict(xtest)\n",
    "print (\"Accuracy : \", accuracy_score(ytest, y_pred))"
   ]
  },
  {
   "cell_type": "code",
   "execution_count": null,
   "id": "e3373098",
   "metadata": {},
   "outputs": [],
   "source": [
    "import pandas as pd\n",
    "import numpy as np\n",
    "import matplotlib.pyplot as plt\n",
    "from sklearn.model_selection import train_test_split\n",
    "from sklearn.preprocessing import StandardScaler\n",
    "from sklearn.linear_model import LogisticRegession\n",
    "from matplotlib.colors import ListedColormap\n",
    "df=pd.read_csv(\"User_Data.csv\")\n",
    "x = dataset.iloc[:, [2, 3]].values\n",
    "y = dataset.iloc[:, 4].values\n",
    "xtrain,xtest,ytrain,ytest=train_test_split(x,y,test_size=0.25,random_state=0)\n",
    "print(df.head())\n",
    "sc_x = StandardScaler()\n",
    "xtrain = sc_x.fit_transform(xtrain)\n",
    "xtest = sc_x.transform(xtest)\n",
    "print (xtrain[0:10, :])\n",
    "classifier = LogisticRegression(random_state = 0)"
   ]
  }
 ],
 "metadata": {
  "kernelspec": {
   "display_name": "Python 3 (ipykernel)",
   "language": "python",
   "name": "python3"
  },
  "language_info": {
   "codemirror_mode": {
    "name": "ipython",
    "version": 3
   },
   "file_extension": ".py",
   "mimetype": "text/x-python",
   "name": "python",
   "nbconvert_exporter": "python",
   "pygments_lexer": "ipython3",
   "version": "3.10.9"
  }
 },
 "nbformat": 4,
 "nbformat_minor": 5
}
